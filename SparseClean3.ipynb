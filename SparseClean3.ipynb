{
 "cells": [
  {
   "cell_type": "markdown",
   "id": "c71b0d5b-126a-4eda-b207-fd98cc1aac12",
   "metadata": {},
   "source": [
    "# Hyperparameters"
   ]
  },
  {
   "cell_type": "code",
   "execution_count": 1,
   "id": "bbaa3f33-435d-42a3-a432-d081f64500ed",
   "metadata": {},
   "outputs": [],
   "source": [
    "args = {\n",
    "    'categories': ['chair'],\n",
    "    'train_epochs': 50,\n",
    "    'lr': 0.001,\n",
    "    'load_checkpoint': False, \n",
    "    'save_checkpoint': 'all_depth4',\n",
    "    'save_per_epochs': 50\n",
    "}"
   ]
  },
  {
   "cell_type": "markdown",
   "id": "f1fb0f6b-3aea-4eec-b80a-456f3b11fadf",
   "metadata": {},
   "source": [
    "# Dataset for Point-Voxels"
   ]
  },
  {
   "cell_type": "code",
   "execution_count": 2,
   "id": "0f4f1c76-7571-4b77-9b50-b21c58343b84",
   "metadata": {},
   "outputs": [
    {
     "name": "stdout",
     "output_type": "stream",
     "text": [
      "Jupyter environment detected. Enabling Open3D WebVisualizer.\n",
      "[Open3D INFO] WebRTC GUI backend enabled.\n",
      "[Open3D INFO] WebRTCWindowSystem: HTTP handshake server disabled.\n",
      "(1, 1, 1)\n",
      "Total number of data:4612\n",
      "Min number of points: (train)2048 (test)2048\n",
      "(1, 1, 1)\n",
      "Total number of data:662\n",
      "Min number of points: (train)2048 (test)2048\n"
     ]
    }
   ],
   "source": [
    "from datasets.shapenet_pointflow_sparse import get_dataloaders\n",
    "from pclab.utils import DataLoaders\n",
    "\n",
    "path = \"/home/vvrbeast/Desktop/Giannis/Data/ShapeNetCore.v2.PC15k\"\n",
    "train_dl, valid_dl = get_dataloaders(path, args['categories'])\n",
    "dls = DataLoaders(train_dl, valid_dl)"
   ]
  },
  {
   "cell_type": "markdown",
   "id": "58852e98-9a16-404a-9538-22f89609a517",
   "metadata": {},
   "source": [
    "# Network"
   ]
  },
  {
   "cell_type": "code",
   "execution_count": 3,
   "id": "ddb4c268-27a1-4352-a1d0-0b6bbdedfc8f",
   "metadata": {},
   "outputs": [],
   "source": [
    "from models.modelv1 import SPVUnet"
   ]
  },
  {
   "cell_type": "markdown",
   "id": "054035e2-6833-4823-98ce-be80769175bb",
   "metadata": {},
   "source": [
    "# Training"
   ]
  },
  {
   "cell_type": "markdown",
   "id": "041ddb4e-3257-4d4a-a20c-c1103488d121",
   "metadata": {},
   "source": [
    "## Callbacks"
   ]
  },
  {
   "cell_type": "code",
   "execution_count": 4,
   "id": "2e91cae0-db3d-43ea-99c9-f7201669f3b1",
   "metadata": {},
   "outputs": [],
   "source": [
    "from pclab.learner import *\n",
    "from pclab.utils import def_device\n",
    "import fastcore.all as fc\n",
    "from typing import Mapping\n",
    "from copy import copy\n",
    "from torcheval.metrics import Mean\n",
    "from utils.callbacks import GradientClipCB\n",
    "from functools import partial\n",
    "import torch \n",
    "import torch.nn as nn\n",
    "import torchsparse"
   ]
  },
  {
   "cell_type": "code",
   "execution_count": 5,
   "id": "375c8a69-cccc-4f65-a971-95c44de65f28",
   "metadata": {},
   "outputs": [],
   "source": [
    "class DDPMCB(Callback):\n",
    "    \n",
    "    def before_batch(self, learn): \n",
    "        pts = learn.batch['input']\n",
    "        t = torch.tensor(learn.batch['t'])\n",
    "        noise = learn.batch['noise']\n",
    "        inp = (pts, t)\n",
    "        learn.batch = (inp, noise.F)"
   ]
  },
  {
   "cell_type": "code",
   "execution_count": 6,
   "id": "8396e050-f0d0-49d1-b83f-442cffc0a24c",
   "metadata": {},
   "outputs": [],
   "source": [
    "def to_device(x, device=def_device):\n",
    "    if isinstance(x, (torch.Tensor, torchsparse.SparseTensor)): return x.to(device)\n",
    "    if isinstance(x, Mapping): return {k:v.to(device) for k,v in x.items()}\n",
    "    return type(x)(to_device(o, device) for o in x)\n",
    "\n",
    "class DeviceCBSparse(Callback):\n",
    "    order = DDPMCB.order + 1\n",
    "    def __init__(self, device=def_device): fc.store_attr()\n",
    "    def before_fit(self, learn):\n",
    "        if hasattr(learn.model, 'to'): learn.model.to(self.device)\n",
    "    def before_batch(self, learn): learn.batch = to_device(learn.batch, device=self.device)"
   ]
  },
  {
   "cell_type": "code",
   "execution_count": 7,
   "id": "4d361ecf-79a9-457c-afc1-9080cd030f61",
   "metadata": {},
   "outputs": [],
   "source": [
    "# Callback to monitor the loss\n",
    "\n",
    "class LossCB(Callback):\n",
    "    def __init__(self, *ms, **metrics):\n",
    "        for o in ms: metrics[type(o).__name__] = o\n",
    "        self.metrics = metrics\n",
    "        self.all_metrics = copy(metrics)\n",
    "        self.all_metrics['loss'] = self.loss = Mean()\n",
    "\n",
    "    def _log(self, d): print(d)\n",
    "    def before_fit(self, learn): learn.metrics = self\n",
    "    def before_epoch(self, learn): [o.reset() for o in self.all_metrics.values()]\n",
    "\n",
    "    def after_epoch(self, learn):\n",
    "        log = {k:f'{v.compute():.3f}' for k,v in self.all_metrics.items()}\n",
    "        log['epoch'] = learn.epoch\n",
    "        log['train'] = 'train' if learn.model.training else 'eval'\n",
    "        self._log(log)\n",
    "\n",
    "    def after_batch(self, learn):\n",
    "        x,y,*_ = learn.batch\n",
    "        #for m in self.metrics.values(): m.update(to_cpu(learn.preds), y)\n",
    "        self.loss.update(to_cpu(learn.loss), weight=2)"
   ]
  },
  {
   "cell_type": "markdown",
   "id": "09d5fe80-5d05-4703-bbe9-77be39740801",
   "metadata": {},
   "source": [
    "## Train"
   ]
  },
  {
   "cell_type": "code",
   "execution_count": 8,
   "id": "e2f818fe-1911-4931-a053-ac9833e15cf1",
   "metadata": {},
   "outputs": [],
   "source": [
    "get_model = partial(SPVUnet, voxel_size=0.1, pres=1e-8)"
   ]
  },
  {
   "cell_type": "code",
   "execution_count": 9,
   "id": "014c61bf-fc5a-4cc8-89eb-4b4ffae10012",
   "metadata": {},
   "outputs": [
    {
     "data": {
      "text/plain": [
       "3922819"
      ]
     },
     "execution_count": 9,
     "metadata": {},
     "output_type": "execute_result"
    }
   ],
   "source": [
    "from utils import model_num_params\n",
    "model = get_model()\n",
    "model_num_params(model)"
   ]
  },
  {
   "cell_type": "markdown",
   "id": "0cc11a70-f06b-4a20-afc8-838fe4aeb477",
   "metadata": {},
   "source": [
    "### LR Finder"
   ]
  },
  {
   "cell_type": "code",
   "execution_count": 10,
   "id": "887a33d7-f8b7-4f4f-9699-aa3f1bb5cc4f",
   "metadata": {},
   "outputs": [
    {
     "data": {
      "image/png": "[encoded data removed]",
      "text/plain": [
       "<Figure size 640x480 with 1 Axes>"
      ]
     },
     "metadata": {},
     "output_type": "display_data"
    }
   ],
   "source": [
    "ddpm_cb = DDPMCB()\n",
    "model = get_model()\n",
    "learn = TrainLearner(model, dls, nn.MSELoss(), cbs=[ddpm_cb, DeviceCBSparse(), GradientClipCB()], opt_func=torch.optim.Adam)\n",
    "learn.lr_find(max_mult=3)"
   ]
  },
  {
   "cell_type": "markdown",
   "id": "111deee8-f710-45d9-ae11-1939d2cc25f0",
   "metadata": {},
   "source": [
    "## Training loop"
   ]
  },
  {
   "cell_type": "code",
   "execution_count": null,
   "id": "d8260791-7107-4cdf-9964-6aa0f123b527",
   "metadata": {},
   "outputs": [
    {
     "data": {
      "text/html": [
       "\n",
       "<style>\n",
       "    /* Turns off some styling */\n",
       "    progress {\n",
       "        /* gets rid of default border in Firefox and Opera. */\n",
       "        border: none;\n",
       "        /* Needs to be in here for Safari polyfill so background images work as expected. */\n",
       "        background-size: auto;\n",
       "    }\n",
       "    progress:not([value]), progress:not([value])::-webkit-progress-bar {\n",
       "        background: repeating-linear-gradient(45deg, #7e7e7e, #7e7e7e 10px, #5c5c5c 10px, #5c5c5c 20px);\n",
       "    }\n",
       "    .progress-bar-interrupted, .progress-bar-interrupted::-webkit-progress-bar {\n",
       "        background: #F44336;\n",
       "    }\n",
       "</style>\n"
      ],
      "text/plain": [
       "<IPython.core.display.HTML object>"
      ]
     },
     "metadata": {},
     "output_type": "display_data"
    },
    {
     "data": {
      "text/html": [
       "\n",
       "    <div>\n",
       "      <progress value='7' class='' max='2000' style='width:300px; height:20px; vertical-align: middle;'></progress>\n",
       "      0.35% [7/2000 00:36&lt;2:54:51]\n",
       "    </div>\n",
       "    \n",
       "<table border=\"1\" class=\"dataframe\">\n",
       "  <thead>\n",
       "    <tr style=\"text-align: left;\">\n",
       "      <th>loss</th>\n",
       "      <th>epoch</th>\n",
       "      <th>train</th>\n",
       "    </tr>\n",
       "  </thead>\n",
       "  <tbody>\n",
       "    <tr>\n",
       "      <td>0.758</td>\n",
       "      <td>0</td>\n",
       "      <td>train</td>\n",
       "    </tr>\n",
       "    <tr>\n",
       "      <td>0.519</td>\n",
       "      <td>0</td>\n",
       "      <td>eval</td>\n",
       "    </tr>\n",
       "    <tr>\n",
       "      <td>0.442</td>\n",
       "      <td>1</td>\n",
       "      <td>train</td>\n",
       "    </tr>\n",
       "    <tr>\n",
       "      <td>0.404</td>\n",
       "      <td>1</td>\n",
       "      <td>eval</td>\n",
       "    </tr>\n",
       "    <tr>\n",
       "      <td>0.382</td>\n",
       "      <td>2</td>\n",
       "      <td>train</td>\n",
       "    </tr>\n",
       "    <tr>\n",
       "      <td>0.351</td>\n",
       "      <td>2</td>\n",
       "      <td>eval</td>\n",
       "    </tr>\n",
       "    <tr>\n",
       "      <td>0.343</td>\n",
       "      <td>3</td>\n",
       "      <td>train</td>\n",
       "    </tr>\n",
       "    <tr>\n",
       "      <td>0.333</td>\n",
       "      <td>3</td>\n",
       "      <td>eval</td>\n",
       "    </tr>\n",
       "    <tr>\n",
       "      <td>0.332</td>\n",
       "      <td>4</td>\n",
       "      <td>train</td>\n",
       "    </tr>\n",
       "    <tr>\n",
       "      <td>0.341</td>\n",
       "      <td>4</td>\n",
       "      <td>eval</td>\n",
       "    </tr>\n",
       "    <tr>\n",
       "      <td>0.335</td>\n",
       "      <td>5</td>\n",
       "      <td>train</td>\n",
       "    </tr>\n",
       "    <tr>\n",
       "      <td>0.327</td>\n",
       "      <td>5</td>\n",
       "      <td>eval</td>\n",
       "    </tr>\n",
       "    <tr>\n",
       "      <td>0.326</td>\n",
       "      <td>6</td>\n",
       "      <td>train</td>\n",
       "    </tr>\n",
       "    <tr>\n",
       "      <td>0.320</td>\n",
       "      <td>6</td>\n",
       "      <td>eval</td>\n",
       "    </tr>\n",
       "  </tbody>\n",
       "</table><p>\n",
       "\n",
       "    <div>\n",
       "      <progress value='13' class='' max='144' style='width:300px; height:20px; vertical-align: middle;'></progress>\n",
       "      9.03% [13/144 00:00&lt;00:07 0.285]\n",
       "    </div>\n",
       "    "
      ],
      "text/plain": [
       "<IPython.core.display.HTML object>"
      ]
     },
     "metadata": {},
     "output_type": "display_data"
    }
   ],
   "source": [
    "lr = 0.001\n",
    "epochs = 2000 #args['train_epochs'] #400\n",
    "\n",
    "model = get_model()\n",
    "\n",
    "# scheduler\n",
    "total_steps = epochs * len(dls.train)\n",
    "sched = partial(torch.optim.lr_scheduler.OneCycleLR, max_lr=lr, total_steps = total_steps)\n",
    "\n",
    "# Callbacks\n",
    "ddpm_cb = DDPMCB()\n",
    "cbs = [ddpm_cb, DeviceCBSparse(), ProgressCB(plot=False), LossCB(), BatchSchedCB(sched), GradientClipCB()]\n",
    "\n",
    "learn = TrainLearner(model, dls, nn.MSELoss(), lr=lr, cbs=cbs, opt_func=torch.optim.Adam)\n",
    "learn.fit(epochs)"
   ]
  },
  {
   "cell_type": "markdown",
   "id": "e6c45a81-8d26-4d40-80f3-17f01bc25531",
   "metadata": {},
   "source": [
    "# Inference"
   ]
  },
  {
   "cell_type": "code",
   "execution_count": null,
   "id": "03d0d60f-c729-4fa4-b1f3-27be838d53d7",
   "metadata": {},
   "outputs": [],
   "source": [
    "from tqdm import tqdm\n",
    "import math\n",
    "import numpy as np\n",
    "from utils.visualization import quick_vis_batch\n",
    "from torchsparse.utils.quantize import sparse_quantize\n",
    "from torchsparse import SparseTensor\n",
    "from torchsparse.utils.collate import sparse_collate_fn\n",
    "vis_batch = partial(quick_vis_batch, x_offset = 8, y_offset=8)"
   ]
  },
  {
   "cell_type": "markdown",
   "id": "8bbbf361-3d52-487e-9b8f-ab854899d2dc",
   "metadata": {},
   "source": [
    "## Noise Batch Generation"
   ]
  },
  {
   "cell_type": "code",
   "execution_count": null,
   "id": "86b1f92a-3882-48a1-a33b-95e01a533b00",
   "metadata": {},
   "outputs": [],
   "source": [
    "from utils.schedulers import DDIMScheduler"
   ]
  },
  {
   "cell_type": "code",
   "execution_count": null,
   "id": "e8206089-47e1-4e11-abf7-a2c8fd1c56ce",
   "metadata": {},
   "outputs": [],
   "source": [
    "sched = DDIMScheduler(beta_min=0.0001, beta_max=0.01, n_steps=1000, s_steps=100) "
   ]
  },
  {
   "cell_type": "code",
   "execution_count": null,
   "id": "2c6f1df0-7fa0-4b42-a57d-a6bcbe0de5ba",
   "metadata": {},
   "outputs": [],
   "source": [
    "batch = sched.sample(model, 32)"
   ]
  },
  {
   "cell_type": "code",
   "execution_count": null,
   "id": "607daec3-d822-4a8e-be59-d5b256e78921",
   "metadata": {},
   "outputs": [],
   "source": [
    "vis_batch(batch)"
   ]
  },
  {
   "cell_type": "code",
   "execution_count": null,
   "id": "29280592-ca2b-4dd0-8869-804daa5fdc46",
   "metadata": {},
   "outputs": [],
   "source": []
  }
 ],
 "metadata": {
  "kernelspec": {
   "display_name": "Python 3 (ipykernel)",
   "language": "python",
   "name": "python3"
  },
  "language_info": {
   "codemirror_mode": {
    "name": "ipython",
    "version": 3
   },
   "file_extension": ".py",
   "mimetype": "text/x-python",
   "name": "python",
   "nbconvert_exporter": "python",
   "pygments_lexer": "ipython3",
   "version": "3.10.14"
  }
 },
 "nbformat": 4,
 "nbformat_minor": 5
}
