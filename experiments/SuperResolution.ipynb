{
 "cells": [
  {
   "cell_type": "code",
   "execution_count": 1,
   "id": "bf2bedf9-edc9-4514-b7a1-2b10a58832e1",
   "metadata": {},
   "outputs": [
    {
     "name": "stdout",
     "output_type": "stream",
     "text": [
      "/home/vvrbeast/Desktop/Giannis/Code/SPVD\n"
     ]
    }
   ],
   "source": [
    "# Add the parent directory to the path so that we can import the necessary modules\n",
    "%cd .."
   ]
  },
  {
   "cell_type": "code",
   "execution_count": 2,
   "id": "b2d7c587-40e5-43a0-848f-fd8dd311fc81",
   "metadata": {},
   "outputs": [
    {
     "name": "stdout",
     "output_type": "stream",
     "text": [
      "Jupyter environment detected. Enabling Open3D WebVisualizer.\n",
      "[Open3D INFO] WebRTC GUI backend enabled.\n",
      "[Open3D INFO] WebRTCWindowSystem: HTTP handshake server disabled.\n"
     ]
    }
   ],
   "source": [
    "import torch\n",
    "import torch.nn as nn\n",
    "import numpy as np\n",
    "from datasets.shapenet_pointflow import ShapeNet15kPointClouds\n",
    "from datasets.utils import NoiseSchedulerDDPM\n",
    "from torchsparse.utils.quantize import sparse_quantize\n",
    "from torchsparse import SparseTensor\n",
    "\n",
    "from torch.utils.data import DataLoader\n",
    "from pclab.utils import DataLoaders\n",
    "from torchsparse.utils.collate import sparse_collate_fn\n",
    "\n",
    "from pclab.learner import *\n",
    "\n",
    "from functools import partial\n",
    "from utils.visualization import quick_vis_batch\n",
    "vis_batch = partial(quick_vis_batch, x_offset = 8, y_offset=8)"
   ]
  },
  {
   "cell_type": "code",
   "execution_count": 3,
   "id": "f4132cc6-b444-4c85-999f-55223cbef423",
   "metadata": {},
   "outputs": [],
   "source": [
    "class ShapaNet15kNoisySparseSuperRes(ShapeNet15kPointClouds):\n",
    "\n",
    "    def __init__(self, root_dir='./data/ShapeNetCore.v2.PC15k', categories=['chair'], pres=1e-5, #, 'car', 'airplane', 'table', 'bag'\n",
    "                 noise_params={'beta_min':0.0001 ,'beta_max':0.02 , 'n_steps':1000},\n",
    "                 high_res = 2048, low_res = 1024,\n",
    "                 split='train',\n",
    "                 random_subsample=False):\n",
    "        super().__init__(root_dir=root_dir,\n",
    "                 categories=categories,\n",
    "                 tr_sample_size=high_res, \n",
    "                 te_sample_size=low_res, # no using this\n",
    "                 split=split, scale=1., normalize_per_shape=False,\n",
    "                 normalize_std_per_axis=False,\n",
    "                 random_subsample=random_subsample)\n",
    "\n",
    "        self.high_res, self.low_res = high_res, low_res\n",
    "        self.pres = pres\n",
    "        self.noise_scheduler = NoiseSchedulerDDPM(beta_min=noise_params['beta_min'],\n",
    "                                                  beta_max=noise_params['beta_max'],\n",
    "                                                  n_steps =noise_params['n_steps'])\n",
    "\n",
    "    \n",
    "    def __getitem__(self, idx):\n",
    "        res = super().__getitem__(idx)\n",
    "\n",
    "        # get original points\n",
    "        pts = res['train_points']\n",
    "\n",
    "        # add noise to points\n",
    "        noisy_pts, t, noise = self.noise_scheduler(pts)\n",
    "\n",
    "        # keep the 'low_res_size' points without noise\n",
    "        real_pts = pts[:self.low_res]\n",
    "        noisy_pts = noisy_pts[self.low_res:]\n",
    "        all_pts = torch.cat([real_pts, noisy_pts], dim=0)\n",
    "        # create a mask to points at real points\n",
    "        mask = torch.ones(len(all_pts), dtype=torch.bool)\n",
    "        mask[self.low_res:] = False\n",
    "\n",
    "        # turn to numpy to pass through sparse_quantize #TODO: Use GPU quantize\n",
    "        all_pts = all_pts.numpy()\n",
    "\n",
    "        # calculate sparse coordinates\n",
    "        coords = all_pts - np.min(all_pts, axis=0, keepdims=True)\n",
    "        coords, indices = sparse_quantize(coords, self.pres, return_index=True)\n",
    "\n",
    "        # back to torch tensors\n",
    "        coords = torch.tensor(coords, dtype=torch.int)\n",
    "        all_pts = torch.tensor(all_pts)\n",
    "        all_pts = torch.cat([all_pts, mask.unsqueeze(-1)], dim=-1) # add the information of which points are from the original pc\n",
    "        feats = all_pts[indices]\n",
    "        noise = noise[indices]\n",
    "        mask = mask[indices]\n",
    "        \n",
    "        # to sparse tensors\n",
    "        noisy_pc = SparseTensor(coords=coords, feats=feats)\n",
    "        \n",
    "        return {\n",
    "            'noisy_pc':noisy_pc,\n",
    "            't': t,\n",
    "            'noise': noise,\n",
    "            'mask': mask\n",
    "        }\n",
    "\n",
    "\n",
    "        "
   ]
  },
  {
   "cell_type": "code",
   "execution_count": 4,
   "id": "6c60f9f5-8397-4967-abc0-fc4112aa06dd",
   "metadata": {},
   "outputs": [
    {
     "name": "stdout",
     "output_type": "stream",
     "text": [
      "(1, 1, 1)\n",
      "Total number of data:4612\n",
      "Min number of points: (train)2048 (test)512\n",
      "(1, 1, 1)\n",
      "Total number of data:662\n",
      "Min number of points: (train)2048 (test)512\n"
     ]
    }
   ],
   "source": [
    "path = '/home/vvrbeast/Desktop/Giannis/Data/ShapeNetCore.v2.PC15k'\n",
    "\n",
    "tr_dataset = ShapaNet15kNoisySparseSuperRes(root_dir=path, low_res=512, split='train')\n",
    "vl_dataset = ShapaNet15kNoisySparseSuperRes(root_dir=path, low_res=512, split='val')\n",
    "\n",
    "tr_dl = DataLoader(tr_dataset, batch_size=32, collate_fn=sparse_collate_fn, drop_last=True, shuffle=True)\n",
    "vl_dl = DataLoader(vl_dataset, batch_size=32, collate_fn=sparse_collate_fn, drop_last=True, shuffle=True)\n",
    "\n",
    "dls = DataLoaders(tr_dl, vl_dl)"
   ]
  },
  {
   "cell_type": "code",
   "execution_count": 5,
   "id": "edc37a20-3026-4c60-b581-528dc69b908e",
   "metadata": {},
   "outputs": [
    {
     "data": {
      "text/plain": [
       "dict_keys(['noisy_pc', 't', 'noise', 'mask'])"
      ]
     },
     "execution_count": 5,
     "metadata": {},
     "output_type": "execute_result"
    }
   ],
   "source": [
    "batch = next(iter(tr_dl))\n",
    "batch.keys()"
   ]
  },
  {
   "cell_type": "code",
   "execution_count": 6,
   "id": "a43c1294-d7ce-413d-98ee-a2fbbd87d1dc",
   "metadata": {},
   "outputs": [
    {
     "data": {
      "text/plain": [
       "torch.Size([32, 512, 3])"
      ]
     },
     "execution_count": 6,
     "metadata": {},
     "output_type": "execute_result"
    }
   ],
   "source": [
    "batch_real = batch['noisy_pc'].F[batch['mask'].view(-1)][:, :3].reshape(32, -1, 3)\n",
    "batch_real.shape"
   ]
  },
  {
   "cell_type": "code",
   "execution_count": 7,
   "id": "331a2706-74ab-4d0b-a603-79e2d48d6ba2",
   "metadata": {},
   "outputs": [],
   "source": [
    "vis_batch(batch_real)"
   ]
  },
  {
   "cell_type": "markdown",
   "id": "15951e41-4c56-46dc-adc3-79c79b792162",
   "metadata": {},
   "source": [
    "# Train Prep"
   ]
  },
  {
   "cell_type": "code",
   "execution_count": 8,
   "id": "88a014ab-5733-43b7-85c0-9de36d43aab1",
   "metadata": {},
   "outputs": [],
   "source": [
    "class DDPMCB(Callback):\n",
    "\n",
    "    def before_batch(self, learn):\n",
    "        pts = learn.batch['noisy_pc']\n",
    "        t = torch.tensor(learn.batch['t'])\n",
    "        inp = (pts, t)\n",
    "        target = learn.batch['noise'], learn.batch['mask'].view(-1)\n",
    "        learn.batch = (inp, target)"
   ]
  },
  {
   "cell_type": "code",
   "execution_count": 9,
   "id": "0573dcf1-53c5-42f7-ac21-875ff5474672",
   "metadata": {},
   "outputs": [],
   "source": [
    "from pclab.utils import def_device\n",
    "import fastcore.all as fc\n",
    "from typing import Mapping\n",
    "from copy import copy\n",
    "from torcheval.metrics import Mean\n",
    "from utils.callbacks import GradientClipCB\n",
    "from utils.callbacks import CheckpointCB\n",
    "import torchsparse\n",
    "\n",
    "def to_device(x, device=def_device):\n",
    "    if isinstance(x, (torch.Tensor, torchsparse.SparseTensor)): return x.to(device)\n",
    "    if isinstance(x, Mapping): return {k:v.to(device) for k,v in x.items()}\n",
    "    return type(x)(to_device(o, device) for o in x)\n",
    "\n",
    "class DeviceCBSparse(Callback):\n",
    "    order = DDPMCB.order + 1\n",
    "    def __init__(self, device=def_device): fc.store_attr()\n",
    "    def before_fit(self, learn):\n",
    "        if hasattr(learn.model, 'to'): learn.model.to(self.device)\n",
    "    def before_batch(self, learn): learn.batch = to_device(learn.batch, device=self.device)\n",
    "\n",
    "\n",
    "class LossCB(Callback):\n",
    "    def __init__(self, *ms, **metrics):\n",
    "        for o in ms: metrics[type(o).__name__] = o\n",
    "        self.metrics = metrics\n",
    "        self.all_metrics = copy(metrics)\n",
    "        self.all_metrics['loss'] = self.loss = Mean()\n",
    "\n",
    "    def _log(self, d): print(d)\n",
    "    def before_fit(self, learn): learn.metrics = self\n",
    "    def before_epoch(self, learn): [o.reset() for o in self.all_metrics.values()]\n",
    "\n",
    "    def after_epoch(self, learn):\n",
    "        log = {k:f'{v.compute():.3f}' for k,v in self.all_metrics.items()}\n",
    "        log['epoch'] = learn.epoch\n",
    "        log['train'] = 'train' if learn.model.training else 'eval'\n",
    "        self._log(log)\n",
    "\n",
    "    def after_batch(self, learn):\n",
    "        x,y,*_ = learn.batch\n",
    "        #for m in self.metrics.values(): m.update(to_cpu(learn.preds), y)\n",
    "        self.loss.update(to_cpu(learn.loss), weight=2)"
   ]
  },
  {
   "cell_type": "code",
   "execution_count": 10,
   "id": "7a266f71-6307-4401-a190-1af6a1dc7a3a",
   "metadata": {},
   "outputs": [],
   "source": [
    "class CustomMSELoss(nn.Module):\n",
    "\n",
    "    def __init__(self):\n",
    "        super().__init__()\n",
    "\n",
    "        self.loss_fn = nn.MSELoss()\n",
    "    \n",
    "    def forward(self, preds, target):\n",
    "\n",
    "        noise, mask = target\n",
    "\n",
    "        # calculate loss only for the noisy points\n",
    "        preds = preds[~mask, :3]\n",
    "        \n",
    "        noise = noise.view(-1, 3)[~mask]\n",
    "\n",
    "        return self.loss_fn(preds, noise)"
   ]
  },
  {
   "cell_type": "markdown",
   "id": "0bf03a89-2c11-483f-a172-0ac3c326b1a3",
   "metadata": {},
   "source": [
    "# Training "
   ]
  },
  {
   "cell_type": "code",
   "execution_count": 11,
   "id": "3576aa69-ab4b-4ac2-8a26-afa9f156710a",
   "metadata": {},
   "outputs": [],
   "source": [
    "from models.spvd import SPVUnet\n",
    "get_model = partial(SPVUnet, point_channels=4, \n",
    "                    down_blocks = [[(64, 128, 192, 256, 256), (True, True, True, False), (None, None, None, None)]], # only one point skip connection during downsampling\n",
    "                    up_blocks   = [[(256, 256, 192), (True, True), (None, None), (3, 3)], \n",
    "                                    [(192, 128, 64), (True, False), (None, None), (3, 3)]])"
   ]
  },
  {
   "cell_type": "code",
   "execution_count": 12,
   "id": "2445ebda-a0f5-43a3-9c1c-1c86783daf64",
   "metadata": {},
   "outputs": [
    {
     "data": {
      "image/png": "[encoded data removed]",
      "text/plain": [
       "<Figure size 640x480 with 1 Axes>"
      ]
     },
     "metadata": {},
     "output_type": "display_data"
    }
   ],
   "source": [
    "ddpm_cb = DDPMCB()\n",
    "model = get_model()\n",
    "learn = TrainLearner(model, dls, CustomMSELoss(), cbs=[ddpm_cb, DeviceCBSparse(), GradientClipCB()], opt_func=torch.optim.Adam)\n",
    "learn.lr_find(max_mult=3)"
   ]
  },
  {
   "cell_type": "code",
   "execution_count": 13,
   "id": "61a2f895-812e-4006-9b44-d6cf73e11add",
   "metadata": {},
   "outputs": [
    {
     "data": {
      "text/html": [
       "\n",
       "<style>\n",
       "    /* Turns off some styling */\n",
       "    progress {\n",
       "        /* gets rid of default border in Firefox and Opera. */\n",
       "        border: none;\n",
       "        /* Needs to be in here for Safari polyfill so background images work as expected. */\n",
       "        background-size: auto;\n",
       "    }\n",
       "    progress:not([value]), progress:not([value])::-webkit-progress-bar {\n",
       "        background: repeating-linear-gradient(45deg, #7e7e7e, #7e7e7e 10px, #5c5c5c 10px, #5c5c5c 20px);\n",
       "    }\n",
       "    .progress-bar-interrupted, .progress-bar-interrupted::-webkit-progress-bar {\n",
       "        background: #F44336;\n",
       "    }\n",
       "</style>\n"
      ],
      "text/plain": [
       "<IPython.core.display.HTML object>"
      ]
     },
     "metadata": {},
     "output_type": "display_data"
    },
    {
     "data": {
      "text/html": [
       "\n",
       "    <div>\n",
       "      <progress value='16' class='' max='20' style='width:300px; height:20px; vertical-align: middle;'></progress>\n",
       "      80.00% [16/20 05:33&lt;01:23]\n",
       "    </div>\n",
       "    \n",
       "<table border=\"1\" class=\"dataframe\">\n",
       "  <thead>\n",
       "    <tr style=\"text-align: left;\">\n",
       "      <th>loss</th>\n",
       "      <th>epoch</th>\n",
       "      <th>train</th>\n",
       "    </tr>\n",
       "  </thead>\n",
       "  <tbody>\n",
       "    <tr>\n",
       "      <td>0.486</td>\n",
       "      <td>0</td>\n",
       "      <td>train</td>\n",
       "    </tr>\n",
       "    <tr>\n",
       "      <td>0.301</td>\n",
       "      <td>0</td>\n",
       "      <td>eval</td>\n",
       "    </tr>\n",
       "    <tr>\n",
       "      <td>0.270</td>\n",
       "      <td>1</td>\n",
       "      <td>train</td>\n",
       "    </tr>\n",
       "    <tr>\n",
       "      <td>0.233</td>\n",
       "      <td>1</td>\n",
       "      <td>eval</td>\n",
       "    </tr>\n",
       "    <tr>\n",
       "      <td>0.245</td>\n",
       "      <td>2</td>\n",
       "      <td>train</td>\n",
       "    </tr>\n",
       "    <tr>\n",
       "      <td>0.234</td>\n",
       "      <td>2</td>\n",
       "      <td>eval</td>\n",
       "    </tr>\n",
       "    <tr>\n",
       "      <td>0.219</td>\n",
       "      <td>3</td>\n",
       "      <td>train</td>\n",
       "    </tr>\n",
       "    <tr>\n",
       "      <td>0.234</td>\n",
       "      <td>3</td>\n",
       "      <td>eval</td>\n",
       "    </tr>\n",
       "    <tr>\n",
       "      <td>0.234</td>\n",
       "      <td>4</td>\n",
       "      <td>train</td>\n",
       "    </tr>\n",
       "    <tr>\n",
       "      <td>0.222</td>\n",
       "      <td>4</td>\n",
       "      <td>eval</td>\n",
       "    </tr>\n",
       "    <tr>\n",
       "      <td>0.229</td>\n",
       "      <td>5</td>\n",
       "      <td>train</td>\n",
       "    </tr>\n",
       "    <tr>\n",
       "      <td>0.233</td>\n",
       "      <td>5</td>\n",
       "      <td>eval</td>\n",
       "    </tr>\n",
       "    <tr>\n",
       "      <td>0.224</td>\n",
       "      <td>6</td>\n",
       "      <td>train</td>\n",
       "    </tr>\n",
       "    <tr>\n",
       "      <td>0.224</td>\n",
       "      <td>6</td>\n",
       "      <td>eval</td>\n",
       "    </tr>\n",
       "    <tr>\n",
       "      <td>0.221</td>\n",
       "      <td>7</td>\n",
       "      <td>train</td>\n",
       "    </tr>\n",
       "    <tr>\n",
       "      <td>0.210</td>\n",
       "      <td>7</td>\n",
       "      <td>eval</td>\n",
       "    </tr>\n",
       "    <tr>\n",
       "      <td>0.229</td>\n",
       "      <td>8</td>\n",
       "      <td>train</td>\n",
       "    </tr>\n",
       "    <tr>\n",
       "      <td>0.220</td>\n",
       "      <td>8</td>\n",
       "      <td>eval</td>\n",
       "    </tr>\n",
       "    <tr>\n",
       "      <td>0.219</td>\n",
       "      <td>9</td>\n",
       "      <td>train</td>\n",
       "    </tr>\n",
       "    <tr>\n",
       "      <td>0.210</td>\n",
       "      <td>9</td>\n",
       "      <td>eval</td>\n",
       "    </tr>\n",
       "    <tr>\n",
       "      <td>0.215</td>\n",
       "      <td>10</td>\n",
       "      <td>train</td>\n",
       "    </tr>\n",
       "    <tr>\n",
       "      <td>0.210</td>\n",
       "      <td>10</td>\n",
       "      <td>eval</td>\n",
       "    </tr>\n",
       "    <tr>\n",
       "      <td>0.219</td>\n",
       "      <td>11</td>\n",
       "      <td>train</td>\n",
       "    </tr>\n",
       "    <tr>\n",
       "      <td>0.210</td>\n",
       "      <td>11</td>\n",
       "      <td>eval</td>\n",
       "    </tr>\n",
       "    <tr>\n",
       "      <td>0.218</td>\n",
       "      <td>12</td>\n",
       "      <td>train</td>\n",
       "    </tr>\n",
       "    <tr>\n",
       "      <td>0.226</td>\n",
       "      <td>12</td>\n",
       "      <td>eval</td>\n",
       "    </tr>\n",
       "    <tr>\n",
       "      <td>0.221</td>\n",
       "      <td>13</td>\n",
       "      <td>train</td>\n",
       "    </tr>\n",
       "    <tr>\n",
       "      <td>0.228</td>\n",
       "      <td>13</td>\n",
       "      <td>eval</td>\n",
       "    </tr>\n",
       "    <tr>\n",
       "      <td>0.220</td>\n",
       "      <td>14</td>\n",
       "      <td>train</td>\n",
       "    </tr>\n",
       "    <tr>\n",
       "      <td>0.222</td>\n",
       "      <td>14</td>\n",
       "      <td>eval</td>\n",
       "    </tr>\n",
       "    <tr>\n",
       "      <td>0.215</td>\n",
       "      <td>15</td>\n",
       "      <td>train</td>\n",
       "    </tr>\n",
       "    <tr>\n",
       "      <td>0.233</td>\n",
       "      <td>15</td>\n",
       "      <td>eval</td>\n",
       "    </tr>\n",
       "  </tbody>\n",
       "</table><p>\n",
       "\n",
       "    <div>\n",
       "      <progress value='26' class='' max='144' style='width:300px; height:20px; vertical-align: middle;'></progress>\n",
       "      18.06% [26/144 00:03&lt;00:16 0.218]\n",
       "    </div>\n",
       "    "
      ],
      "text/plain": [
       "<IPython.core.display.HTML object>"
      ]
     },
     "metadata": {},
     "output_type": "display_data"
    },
    {
     "ename": "KeyboardInterrupt",
     "evalue": "",
     "output_type": "error",
     "traceback": [
      "\u001b[0;31m---------------------------------------------------------------------------\u001b[0m",
      "\u001b[0;31mKeyboardInterrupt\u001b[0m                         Traceback (most recent call last)",
      "Cell \u001b[0;32mIn[13], line 16\u001b[0m\n\u001b[1;32m     13\u001b[0m cbs \u001b[38;5;241m=\u001b[39m [ddpm_cb, DeviceCBSparse(), ProgressCB(plot\u001b[38;5;241m=\u001b[39m\u001b[38;5;28;01mFalse\u001b[39;00m), LossCB(), GradientClipCB(), checkpoint_cb, BatchSchedCB(sched)]\n\u001b[1;32m     15\u001b[0m learn \u001b[38;5;241m=\u001b[39m TrainLearner(model, dls, CustomMSELoss(), lr\u001b[38;5;241m=\u001b[39mlr, cbs\u001b[38;5;241m=\u001b[39mcbs, opt_func\u001b[38;5;241m=\u001b[39mtorch\u001b[38;5;241m.\u001b[39moptim\u001b[38;5;241m.\u001b[39mAdam)\n\u001b[0;32m---> 16\u001b[0m \u001b[43mlearn\u001b[49m\u001b[38;5;241;43m.\u001b[39;49m\u001b[43mfit\u001b[49m\u001b[43m(\u001b[49m\u001b[43mepochs\u001b[49m\u001b[43m)\u001b[49m\n",
      "File \u001b[0;32m~/Desktop/Giannis/Code/pclab/pclab/learner.py:110\u001b[0m, in \u001b[0;36mLearner.fit\u001b[0;34m(self, n_epochs, train, valid, cbs, lr)\u001b[0m\n\u001b[1;32m    108\u001b[0m     \u001b[38;5;28;01mif\u001b[39;00m lr \u001b[38;5;129;01mis\u001b[39;00m \u001b[38;5;28;01mNone\u001b[39;00m: lr \u001b[38;5;241m=\u001b[39m \u001b[38;5;28mself\u001b[39m\u001b[38;5;241m.\u001b[39mlr\n\u001b[1;32m    109\u001b[0m     \u001b[38;5;28;01mif\u001b[39;00m \u001b[38;5;28mself\u001b[39m\u001b[38;5;241m.\u001b[39mopt_func: \u001b[38;5;28mself\u001b[39m\u001b[38;5;241m.\u001b[39mopt \u001b[38;5;241m=\u001b[39m \u001b[38;5;28mself\u001b[39m\u001b[38;5;241m.\u001b[39mopt_func(\u001b[38;5;28mself\u001b[39m\u001b[38;5;241m.\u001b[39mmodel\u001b[38;5;241m.\u001b[39mparameters(), lr)\n\u001b[0;32m--> 110\u001b[0m     \u001b[38;5;28;43mself\u001b[39;49m\u001b[38;5;241;43m.\u001b[39;49m\u001b[43m_fit\u001b[49m\u001b[43m(\u001b[49m\u001b[43mtrain\u001b[49m\u001b[43m,\u001b[49m\u001b[43m \u001b[49m\u001b[43mvalid\u001b[49m\u001b[43m)\u001b[49m\n\u001b[1;32m    111\u001b[0m \u001b[38;5;28;01mfinally\u001b[39;00m:\n\u001b[1;32m    112\u001b[0m     \u001b[38;5;28;01mfor\u001b[39;00m cb \u001b[38;5;129;01min\u001b[39;00m cbs: \u001b[38;5;28mself\u001b[39m\u001b[38;5;241m.\u001b[39mcbs\u001b[38;5;241m.\u001b[39mremove(cb)\n",
      "File \u001b[0;32m~/Desktop/Giannis/Code/pclab/pclab/learner.py:61\u001b[0m, in \u001b[0;36mwith_cbs.__call__.<locals>._f\u001b[0;34m(o, *args, **kwargs)\u001b[0m\n\u001b[1;32m     59\u001b[0m \u001b[38;5;28;01mtry\u001b[39;00m:\n\u001b[1;32m     60\u001b[0m     o\u001b[38;5;241m.\u001b[39mcallback(\u001b[38;5;124mf\u001b[39m\u001b[38;5;124m'\u001b[39m\u001b[38;5;124mbefore_\u001b[39m\u001b[38;5;132;01m{\u001b[39;00m\u001b[38;5;28mself\u001b[39m\u001b[38;5;241m.\u001b[39mnm\u001b[38;5;132;01m}\u001b[39;00m\u001b[38;5;124m'\u001b[39m)\n\u001b[0;32m---> 61\u001b[0m     \u001b[43mf\u001b[49m\u001b[43m(\u001b[49m\u001b[43mo\u001b[49m\u001b[43m,\u001b[49m\u001b[43m \u001b[49m\u001b[38;5;241;43m*\u001b[39;49m\u001b[43margs\u001b[49m\u001b[43m,\u001b[49m\u001b[43m \u001b[49m\u001b[38;5;241;43m*\u001b[39;49m\u001b[38;5;241;43m*\u001b[39;49m\u001b[43mkwargs\u001b[49m\u001b[43m)\u001b[49m\n\u001b[1;32m     62\u001b[0m     o\u001b[38;5;241m.\u001b[39mcallback(\u001b[38;5;124mf\u001b[39m\u001b[38;5;124m'\u001b[39m\u001b[38;5;124mafter_\u001b[39m\u001b[38;5;132;01m{\u001b[39;00m\u001b[38;5;28mself\u001b[39m\u001b[38;5;241m.\u001b[39mnm\u001b[38;5;132;01m}\u001b[39;00m\u001b[38;5;124m'\u001b[39m)\n\u001b[1;32m     63\u001b[0m \u001b[38;5;28;01mexcept\u001b[39;00m \u001b[38;5;28mglobals\u001b[39m()[\u001b[38;5;124mf\u001b[39m\u001b[38;5;124m'\u001b[39m\u001b[38;5;124mCancel\u001b[39m\u001b[38;5;132;01m{\u001b[39;00m\u001b[38;5;28mself\u001b[39m\u001b[38;5;241m.\u001b[39mnm\u001b[38;5;241m.\u001b[39mtitle()\u001b[38;5;132;01m}\u001b[39;00m\u001b[38;5;124mException\u001b[39m\u001b[38;5;124m'\u001b[39m]: \u001b[38;5;28;01mpass\u001b[39;00m\n",
      "File \u001b[0;32m~/Desktop/Giannis/Code/pclab/pclab/learner.py:98\u001b[0m, in \u001b[0;36mLearner._fit\u001b[0;34m(self, train, valid)\u001b[0m\n\u001b[1;32m     95\u001b[0m \u001b[38;5;129m@with_cbs\u001b[39m(\u001b[38;5;124m'\u001b[39m\u001b[38;5;124mfit\u001b[39m\u001b[38;5;124m'\u001b[39m)\n\u001b[1;32m     96\u001b[0m \u001b[38;5;28;01mdef\u001b[39;00m \u001b[38;5;21m_fit\u001b[39m(\u001b[38;5;28mself\u001b[39m, train, valid):\n\u001b[1;32m     97\u001b[0m     \u001b[38;5;28;01mfor\u001b[39;00m \u001b[38;5;28mself\u001b[39m\u001b[38;5;241m.\u001b[39mepoch \u001b[38;5;129;01min\u001b[39;00m \u001b[38;5;28mself\u001b[39m\u001b[38;5;241m.\u001b[39mepochs:\n\u001b[0;32m---> 98\u001b[0m         \u001b[38;5;28;01mif\u001b[39;00m train: \u001b[38;5;28;43mself\u001b[39;49m\u001b[38;5;241;43m.\u001b[39;49m\u001b[43mone_epoch\u001b[49m\u001b[43m(\u001b[49m\u001b[38;5;28;43;01mTrue\u001b[39;49;00m\u001b[43m)\u001b[49m\n\u001b[1;32m     99\u001b[0m         \u001b[38;5;28;01mif\u001b[39;00m valid: torch\u001b[38;5;241m.\u001b[39mno_grad()(\u001b[38;5;28mself\u001b[39m\u001b[38;5;241m.\u001b[39mone_epoch)(\u001b[38;5;28;01mFalse\u001b[39;00m)\n",
      "File \u001b[0;32m~/Desktop/Giannis/Code/pclab/pclab/learner.py:93\u001b[0m, in \u001b[0;36mLearner.one_epoch\u001b[0;34m(self, training)\u001b[0m\n\u001b[1;32m     91\u001b[0m \u001b[38;5;28mself\u001b[39m\u001b[38;5;241m.\u001b[39mmodel\u001b[38;5;241m.\u001b[39mtrain(training)\n\u001b[1;32m     92\u001b[0m \u001b[38;5;28mself\u001b[39m\u001b[38;5;241m.\u001b[39mdl \u001b[38;5;241m=\u001b[39m \u001b[38;5;28mself\u001b[39m\u001b[38;5;241m.\u001b[39mdls\u001b[38;5;241m.\u001b[39mtrain \u001b[38;5;28;01mif\u001b[39;00m training \u001b[38;5;28;01melse\u001b[39;00m \u001b[38;5;28mself\u001b[39m\u001b[38;5;241m.\u001b[39mdls\u001b[38;5;241m.\u001b[39mvalid\n\u001b[0;32m---> 93\u001b[0m \u001b[38;5;28;43mself\u001b[39;49m\u001b[38;5;241;43m.\u001b[39;49m\u001b[43m_one_epoch\u001b[49m\u001b[43m(\u001b[49m\u001b[43m)\u001b[49m\n",
      "File \u001b[0;32m~/Desktop/Giannis/Code/pclab/pclab/learner.py:61\u001b[0m, in \u001b[0;36mwith_cbs.__call__.<locals>._f\u001b[0;34m(o, *args, **kwargs)\u001b[0m\n\u001b[1;32m     59\u001b[0m \u001b[38;5;28;01mtry\u001b[39;00m:\n\u001b[1;32m     60\u001b[0m     o\u001b[38;5;241m.\u001b[39mcallback(\u001b[38;5;124mf\u001b[39m\u001b[38;5;124m'\u001b[39m\u001b[38;5;124mbefore_\u001b[39m\u001b[38;5;132;01m{\u001b[39;00m\u001b[38;5;28mself\u001b[39m\u001b[38;5;241m.\u001b[39mnm\u001b[38;5;132;01m}\u001b[39;00m\u001b[38;5;124m'\u001b[39m)\n\u001b[0;32m---> 61\u001b[0m     \u001b[43mf\u001b[49m\u001b[43m(\u001b[49m\u001b[43mo\u001b[49m\u001b[43m,\u001b[49m\u001b[43m \u001b[49m\u001b[38;5;241;43m*\u001b[39;49m\u001b[43margs\u001b[49m\u001b[43m,\u001b[49m\u001b[43m \u001b[49m\u001b[38;5;241;43m*\u001b[39;49m\u001b[38;5;241;43m*\u001b[39;49m\u001b[43mkwargs\u001b[49m\u001b[43m)\u001b[49m\n\u001b[1;32m     62\u001b[0m     o\u001b[38;5;241m.\u001b[39mcallback(\u001b[38;5;124mf\u001b[39m\u001b[38;5;124m'\u001b[39m\u001b[38;5;124mafter_\u001b[39m\u001b[38;5;132;01m{\u001b[39;00m\u001b[38;5;28mself\u001b[39m\u001b[38;5;241m.\u001b[39mnm\u001b[38;5;132;01m}\u001b[39;00m\u001b[38;5;124m'\u001b[39m)\n\u001b[1;32m     63\u001b[0m \u001b[38;5;28;01mexcept\u001b[39;00m \u001b[38;5;28mglobals\u001b[39m()[\u001b[38;5;124mf\u001b[39m\u001b[38;5;124m'\u001b[39m\u001b[38;5;124mCancel\u001b[39m\u001b[38;5;132;01m{\u001b[39;00m\u001b[38;5;28mself\u001b[39m\u001b[38;5;241m.\u001b[39mnm\u001b[38;5;241m.\u001b[39mtitle()\u001b[38;5;132;01m}\u001b[39;00m\u001b[38;5;124mException\u001b[39m\u001b[38;5;124m'\u001b[39m]: \u001b[38;5;28;01mpass\u001b[39;00m\n",
      "File \u001b[0;32m~/Desktop/Giannis/Code/pclab/pclab/learner.py:88\u001b[0m, in \u001b[0;36mLearner._one_epoch\u001b[0;34m(self)\u001b[0m\n\u001b[1;32m     86\u001b[0m \u001b[38;5;129m@with_cbs\u001b[39m(\u001b[38;5;124m'\u001b[39m\u001b[38;5;124mepoch\u001b[39m\u001b[38;5;124m'\u001b[39m)\n\u001b[1;32m     87\u001b[0m \u001b[38;5;28;01mdef\u001b[39;00m \u001b[38;5;21m_one_epoch\u001b[39m(\u001b[38;5;28mself\u001b[39m):\n\u001b[0;32m---> 88\u001b[0m     \u001b[38;5;28;01mfor\u001b[39;00m \u001b[38;5;28mself\u001b[39m\u001b[38;5;241m.\u001b[39miter,\u001b[38;5;28mself\u001b[39m\u001b[38;5;241m.\u001b[39mbatch \u001b[38;5;129;01min\u001b[39;00m \u001b[38;5;28menumerate\u001b[39m(\u001b[38;5;28mself\u001b[39m\u001b[38;5;241m.\u001b[39mdl): \u001b[38;5;28;43mself\u001b[39;49m\u001b[38;5;241;43m.\u001b[39;49m\u001b[43m_one_batch\u001b[49m\u001b[43m(\u001b[49m\u001b[43m)\u001b[49m\n",
      "File \u001b[0;32m~/Desktop/Giannis/Code/pclab/pclab/learner.py:61\u001b[0m, in \u001b[0;36mwith_cbs.__call__.<locals>._f\u001b[0;34m(o, *args, **kwargs)\u001b[0m\n\u001b[1;32m     59\u001b[0m \u001b[38;5;28;01mtry\u001b[39;00m:\n\u001b[1;32m     60\u001b[0m     o\u001b[38;5;241m.\u001b[39mcallback(\u001b[38;5;124mf\u001b[39m\u001b[38;5;124m'\u001b[39m\u001b[38;5;124mbefore_\u001b[39m\u001b[38;5;132;01m{\u001b[39;00m\u001b[38;5;28mself\u001b[39m\u001b[38;5;241m.\u001b[39mnm\u001b[38;5;132;01m}\u001b[39;00m\u001b[38;5;124m'\u001b[39m)\n\u001b[0;32m---> 61\u001b[0m     \u001b[43mf\u001b[49m\u001b[43m(\u001b[49m\u001b[43mo\u001b[49m\u001b[43m,\u001b[49m\u001b[43m \u001b[49m\u001b[38;5;241;43m*\u001b[39;49m\u001b[43margs\u001b[49m\u001b[43m,\u001b[49m\u001b[43m \u001b[49m\u001b[38;5;241;43m*\u001b[39;49m\u001b[38;5;241;43m*\u001b[39;49m\u001b[43mkwargs\u001b[49m\u001b[43m)\u001b[49m\n\u001b[1;32m     62\u001b[0m     o\u001b[38;5;241m.\u001b[39mcallback(\u001b[38;5;124mf\u001b[39m\u001b[38;5;124m'\u001b[39m\u001b[38;5;124mafter_\u001b[39m\u001b[38;5;132;01m{\u001b[39;00m\u001b[38;5;28mself\u001b[39m\u001b[38;5;241m.\u001b[39mnm\u001b[38;5;132;01m}\u001b[39;00m\u001b[38;5;124m'\u001b[39m)\n\u001b[1;32m     63\u001b[0m \u001b[38;5;28;01mexcept\u001b[39;00m \u001b[38;5;28mglobals\u001b[39m()[\u001b[38;5;124mf\u001b[39m\u001b[38;5;124m'\u001b[39m\u001b[38;5;124mCancel\u001b[39m\u001b[38;5;132;01m{\u001b[39;00m\u001b[38;5;28mself\u001b[39m\u001b[38;5;241m.\u001b[39mnm\u001b[38;5;241m.\u001b[39mtitle()\u001b[38;5;132;01m}\u001b[39;00m\u001b[38;5;124mException\u001b[39m\u001b[38;5;124m'\u001b[39m]: \u001b[38;5;28;01mpass\u001b[39;00m\n",
      "File \u001b[0;32m~/Desktop/Giannis/Code/pclab/pclab/learner.py:80\u001b[0m, in \u001b[0;36mLearner._one_batch\u001b[0;34m(self)\u001b[0m\n\u001b[1;32m     78\u001b[0m \u001b[38;5;28mself\u001b[39m\u001b[38;5;241m.\u001b[39mcallback(\u001b[38;5;124m'\u001b[39m\u001b[38;5;124mafter_loss\u001b[39m\u001b[38;5;124m'\u001b[39m)\n\u001b[1;32m     79\u001b[0m \u001b[38;5;28;01mif\u001b[39;00m \u001b[38;5;28mself\u001b[39m\u001b[38;5;241m.\u001b[39mtraining:\n\u001b[0;32m---> 80\u001b[0m     \u001b[38;5;28;43mself\u001b[39;49m\u001b[38;5;241;43m.\u001b[39;49m\u001b[43mbackward\u001b[49m\u001b[43m(\u001b[49m\u001b[43m)\u001b[49m\n\u001b[1;32m     81\u001b[0m     \u001b[38;5;28mself\u001b[39m\u001b[38;5;241m.\u001b[39mcallback(\u001b[38;5;124m'\u001b[39m\u001b[38;5;124mafter_backward\u001b[39m\u001b[38;5;124m'\u001b[39m)\n\u001b[1;32m     82\u001b[0m     \u001b[38;5;28mself\u001b[39m\u001b[38;5;241m.\u001b[39mstep()\n",
      "File \u001b[0;32m~/Desktop/Giannis/Code/pclab/pclab/learner.py:127\u001b[0m, in \u001b[0;36mTrainLearner.backward\u001b[0;34m(self)\u001b[0m\n\u001b[0;32m--> 127\u001b[0m \u001b[38;5;28;01mdef\u001b[39;00m \u001b[38;5;21mbackward\u001b[39m(\u001b[38;5;28mself\u001b[39m): \u001b[38;5;28;43mself\u001b[39;49m\u001b[38;5;241;43m.\u001b[39;49m\u001b[43mloss\u001b[49m\u001b[38;5;241;43m.\u001b[39;49m\u001b[43mbackward\u001b[49m\u001b[43m(\u001b[49m\u001b[43m)\u001b[49m\n",
      "File \u001b[0;32m~/anaconda3/envs/sparse/lib/python3.10/site-packages/torch/_tensor.py:487\u001b[0m, in \u001b[0;36mTensor.backward\u001b[0;34m(self, gradient, retain_graph, create_graph, inputs)\u001b[0m\n\u001b[1;32m    477\u001b[0m \u001b[38;5;28;01mif\u001b[39;00m has_torch_function_unary(\u001b[38;5;28mself\u001b[39m):\n\u001b[1;32m    478\u001b[0m     \u001b[38;5;28;01mreturn\u001b[39;00m handle_torch_function(\n\u001b[1;32m    479\u001b[0m         Tensor\u001b[38;5;241m.\u001b[39mbackward,\n\u001b[1;32m    480\u001b[0m         (\u001b[38;5;28mself\u001b[39m,),\n\u001b[0;32m   (...)\u001b[0m\n\u001b[1;32m    485\u001b[0m         inputs\u001b[38;5;241m=\u001b[39minputs,\n\u001b[1;32m    486\u001b[0m     )\n\u001b[0;32m--> 487\u001b[0m \u001b[43mtorch\u001b[49m\u001b[38;5;241;43m.\u001b[39;49m\u001b[43mautograd\u001b[49m\u001b[38;5;241;43m.\u001b[39;49m\u001b[43mbackward\u001b[49m\u001b[43m(\u001b[49m\n\u001b[1;32m    488\u001b[0m \u001b[43m    \u001b[49m\u001b[38;5;28;43mself\u001b[39;49m\u001b[43m,\u001b[49m\u001b[43m \u001b[49m\u001b[43mgradient\u001b[49m\u001b[43m,\u001b[49m\u001b[43m \u001b[49m\u001b[43mretain_graph\u001b[49m\u001b[43m,\u001b[49m\u001b[43m \u001b[49m\u001b[43mcreate_graph\u001b[49m\u001b[43m,\u001b[49m\u001b[43m \u001b[49m\u001b[43minputs\u001b[49m\u001b[38;5;241;43m=\u001b[39;49m\u001b[43minputs\u001b[49m\n\u001b[1;32m    489\u001b[0m \u001b[43m\u001b[49m\u001b[43m)\u001b[49m\n",
      "File \u001b[0;32m~/anaconda3/envs/sparse/lib/python3.10/site-packages/torch/autograd/__init__.py:200\u001b[0m, in \u001b[0;36mbackward\u001b[0;34m(tensors, grad_tensors, retain_graph, create_graph, grad_variables, inputs)\u001b[0m\n\u001b[1;32m    195\u001b[0m     retain_graph \u001b[38;5;241m=\u001b[39m create_graph\n\u001b[1;32m    197\u001b[0m \u001b[38;5;66;03m# The reason we repeat same the comment below is that\u001b[39;00m\n\u001b[1;32m    198\u001b[0m \u001b[38;5;66;03m# some Python versions print out the first line of a multi-line function\u001b[39;00m\n\u001b[1;32m    199\u001b[0m \u001b[38;5;66;03m# calls in the traceback and some print out the last line\u001b[39;00m\n\u001b[0;32m--> 200\u001b[0m \u001b[43mVariable\u001b[49m\u001b[38;5;241;43m.\u001b[39;49m\u001b[43m_execution_engine\u001b[49m\u001b[38;5;241;43m.\u001b[39;49m\u001b[43mrun_backward\u001b[49m\u001b[43m(\u001b[49m\u001b[43m  \u001b[49m\u001b[38;5;66;43;03m# Calls into the C++ engine to run the backward pass\u001b[39;49;00m\n\u001b[1;32m    201\u001b[0m \u001b[43m    \u001b[49m\u001b[43mtensors\u001b[49m\u001b[43m,\u001b[49m\u001b[43m \u001b[49m\u001b[43mgrad_tensors_\u001b[49m\u001b[43m,\u001b[49m\u001b[43m \u001b[49m\u001b[43mretain_graph\u001b[49m\u001b[43m,\u001b[49m\u001b[43m \u001b[49m\u001b[43mcreate_graph\u001b[49m\u001b[43m,\u001b[49m\u001b[43m \u001b[49m\u001b[43minputs\u001b[49m\u001b[43m,\u001b[49m\n\u001b[1;32m    202\u001b[0m \u001b[43m    \u001b[49m\u001b[43mallow_unreachable\u001b[49m\u001b[38;5;241;43m=\u001b[39;49m\u001b[38;5;28;43;01mTrue\u001b[39;49;00m\u001b[43m,\u001b[49m\u001b[43m \u001b[49m\u001b[43maccumulate_grad\u001b[49m\u001b[38;5;241;43m=\u001b[39;49m\u001b[38;5;28;43;01mTrue\u001b[39;49;00m\u001b[43m)\u001b[49m\n",
      "\u001b[0;31mKeyboardInterrupt\u001b[0m: "
     ]
    }
   ],
   "source": [
    "lr = 0.0001 \n",
    "epochs = 20\n",
    "\n",
    "model = get_model()\n",
    "\n",
    "# scheduler\n",
    "total_steps = epochs * len(dls.train)\n",
    "sched = partial(torch.optim.lr_scheduler.OneCycleLR, max_lr=lr, total_steps = total_steps)\n",
    "\n",
    "# Callbacks\n",
    "ddpm_cb = DDPMCB()\n",
    "checkpoint_cb = CheckpointCB(1000, 'SuperRes', run_params={'msg':model.msg})\n",
    "cbs = [ddpm_cb, DeviceCBSparse(), ProgressCB(plot=False), LossCB(), GradientClipCB(), checkpoint_cb, BatchSchedCB(sched)]\n",
    "\n",
    "learn = TrainLearner(model, dls, CustomMSELoss(), lr=lr, cbs=cbs, opt_func=torch.optim.Adam)\n",
    "learn.fit(epochs)"
   ]
  },
  {
   "cell_type": "markdown",
   "id": "45130d19-ffa6-4e91-82bd-76615865e309",
   "metadata": {},
   "source": [
    "# Test Super-Resolution"
   ]
  },
  {
   "cell_type": "code",
   "execution_count": 2,
   "id": "eff39065-9a25-44d9-a92a-4ad6d243f16d",
   "metadata": {},
   "outputs": [
    {
     "ename": "ModuleNotFoundError",
     "evalue": "No module named 'utils'",
     "output_type": "error",
     "traceback": [
      "\u001b[0;31m---------------------------------------------------------------------------\u001b[0m",
      "\u001b[0;31mModuleNotFoundError\u001b[0m                       Traceback (most recent call last)",
      "Cell \u001b[0;32mIn[2], line 4\u001b[0m\n\u001b[1;32m      2\u001b[0m \u001b[38;5;28;01mimport\u001b[39;00m \u001b[38;5;21;01mtorch\u001b[39;00m\n\u001b[1;32m      3\u001b[0m \u001b[38;5;28;01mfrom\u001b[39;00m \u001b[38;5;21;01mtorchsparse\u001b[39;00m \u001b[38;5;28;01mimport\u001b[39;00m SparseTensor\n\u001b[0;32m----> 4\u001b[0m \u001b[38;5;28;01mfrom\u001b[39;00m \u001b[38;5;21;01mutils\u001b[39;00m\u001b[38;5;21;01m.\u001b[39;00m\u001b[38;5;21;01mschedulers\u001b[39;00m \u001b[38;5;28;01mimport\u001b[39;00m SchedulerBase, SchedulingStrategy, DDPM\n\u001b[1;32m      5\u001b[0m \u001b[38;5;28;01mfrom\u001b[39;00m \u001b[38;5;21;01mabc\u001b[39;00m \u001b[38;5;28;01mimport\u001b[39;00m abstractmethod\n\u001b[1;32m      6\u001b[0m \u001b[38;5;28;01mfrom\u001b[39;00m \u001b[38;5;21;01mmodels\u001b[39;00m\u001b[38;5;21;01m.\u001b[39;00m\u001b[38;5;21;01msparse_utils\u001b[39;00m \u001b[38;5;28;01mimport\u001b[39;00m batch_sparse_quantize_torch\n",
      "\u001b[0;31mModuleNotFoundError\u001b[0m: No module named 'utils'"
     ]
    }
   ],
   "source": [
    "#export\n",
    "import torch\n",
    "from torchsparse import SparseTensor\n",
    "from utils.schedulers import SchedulerBase, SchedulingStrategy, DDPM\n",
    "from abc import abstractmethod\n",
    "from models.sparse_utils import batch_sparse_quantize_torch"
   ]
  },
  {
   "cell_type": "markdown",
   "id": "0cf9d68c-e5e6-4189-8313-af87c593e6a7",
   "metadata": {},
   "source": [
    "For completion a tensor with 4 features is required\n",
    "- `points[..., :3]` : x,y,z coordinates\n",
    "- `points[..., -1]` : Indicates if the point is from the original point cloud or if it padded noise. "
   ]
  },
  {
   "cell_type": "code",
   "execution_count": 87,
   "id": "1b3a5a02-f0bc-409b-ae2e-0f8b05f2f4dd",
   "metadata": {},
   "outputs": [],
   "source": [
    "#export\n",
    "class CompletionScheduler(SchedulerBase):\n",
    "\n",
    "    @abstractmethod\n",
    "    def get_pc(self, x_t, shape):\n",
    "        pass\n",
    "\n",
    "    @abstractmethod\n",
    "    def pad_noise(x0, n_points):\n",
    "        pass\n",
    "    \n",
    "    @torch.no_grad()\n",
    "    def complete(self, x0, model, n_points, emb=None, save_process=False):\n",
    "        # get the model device\n",
    "        device = next(model.parameters()).device\n",
    "\n",
    "        # take x_0 to device\n",
    "        x0 = x0.to(device)\n",
    "\n",
    "        shape = torch.Size((x0.shape[0], n_points, x0.shape[-1] + 1))\n",
    "        \n",
    "        # pad noise to point cloud\n",
    "        x_t = self.pad_noise(x0, n_points)\n",
    "        if save_process: preds = [self.get_pc(x_t, shape)] \n",
    "        \n",
    "        for i, t in enumerate(self.strategy.steps):\n",
    "            x_t = self.sample_step(model, x_t, t, i, emb, shape, device)\n",
    "            if save_process: preds.append(self.get_pc(x_t, shape))\n",
    "        \n",
    "        return preds if save_process else self.get_pc(x_t, shape)"
   ]
  },
  {
   "cell_type": "code",
   "execution_count": 146,
   "id": "f94b3b8d-5c9b-4d9a-8295-1baa4dfb3c0e",
   "metadata": {},
   "outputs": [],
   "source": [
    "#export\n",
    "class SparseCompletionScheduler(CompletionScheduler):\n",
    "\n",
    "    def __init__(self, strategy:SchedulingStrategy, save_process=False, pres=1e-5):\n",
    "        super().__init__(strategy, save_process)\n",
    "        self.pres = pres\n",
    "\n",
    "    def pad_noise(self, x0, n_points):\n",
    "        B, N, F = x0.shape\n",
    "        num_pad = n_points - N\n",
    "        noise = torch.randn(B, num_pad, F).to(x0.device)\n",
    "        padded_pc = torch.cat([x0, noise], dim=1)\n",
    "\n",
    "        mask = torch.zeros(B, n_points, 1).to(x0.device)\n",
    "        mask[:, :N] = 1\n",
    "        # print(N)\n",
    "        # print(x0.shape)\n",
    "        # print(n_points)\n",
    "        # print(mask.sum())\n",
    "        # print(mask.shape)\n",
    "\n",
    "        padded_pc = torch.cat([padded_pc, mask], dim=-1)\n",
    "\n",
    "        return self.torch2sparse(padded_pc, padded_pc.shape)       \n",
    "\n",
    "    def update_rule(self, x_t, noise_pred, t, i, shape, device):\n",
    "        mask = x_t.F[:, -1].bool()\n",
    "\n",
    "        # print(mask.sum())\n",
    "        \n",
    "        x_t_new = self.strategy.update_rule(x_t.F[:, :3], noise_pred[:, :3], t, i, shape, device)\n",
    "        \n",
    "        x_t = x_t.F[:, :3]* mask.unsqueeze(-1) + x_t_new * ~mask.unsqueeze(-1)\n",
    "        \n",
    "        x_t = torch.cat([x_t, mask.unsqueeze(-1)], dim=-1)\n",
    "\n",
    "        return self.torch2sparse(x_t, shape).to(device)\n",
    "\n",
    "    def get_pc(self, x_t, shape):\n",
    "        return x_t.F.detach().cpu().reshape(shape)[:, :, :3]"
   ]
  },
  {
   "cell_type": "code",
   "execution_count": 147,
   "id": "fd224939-334c-433f-81be-8608a6d23cc9",
   "metadata": {},
   "outputs": [],
   "source": [
    "#export\n",
    "class SparseCompletionSchedulerGPU(SparseCompletionScheduler):\n",
    "\n",
    "    def torch2sparse(self, pts:torch.Tensor, shape):\n",
    "        pts = pts.reshape(shape)\n",
    "        \n",
    "        coords = pts[..., :3] # In case points have additional features\n",
    "        coords = coords - coords.min(dim=1, keepdim=True).values\n",
    "        coords, indices = batch_sparse_quantize_torch(coords, voxel_size=self.pres, return_index=True, return_batch_index=False)\n",
    "        feats = pts.view(-1, shape[-1])[indices]\n",
    "\n",
    "        return SparseTensor(coords=coords, feats=feats).to(coords.device)"
   ]
  },
  {
   "cell_type": "code",
   "execution_count": 148,
   "id": "1e65ae54-ea9a-4dff-a2bb-4e11f0a48956",
   "metadata": {},
   "outputs": [],
   "source": [
    "#export\n",
    "class DDPMSparseCompletionSchedulerGPU(SparseCompletionSchedulerGPU):\n",
    "    def __init__(self, beta_min=0.0001, beta_max=0.02, n_steps=1000, mode='linear', sigma='bt', pres=1e-5, save_process=False):\n",
    "        strategy = DDPM(beta_min=beta_min, beta_max=beta_max, n_steps=n_steps, mode=mode, sigma=sigma)\n",
    "        super().__init__(strategy, save_process=save_process, pres=pres)"
   ]
  },
  {
   "cell_type": "code",
   "execution_count": 149,
   "id": "db9724bc-47a9-405b-ba8f-f1c816f84f9a",
   "metadata": {},
   "outputs": [
    {
     "data": {
      "text/plain": [
       "<All keys matched successfully>"
      ]
     },
     "execution_count": 149,
     "metadata": {},
     "output_type": "execute_result"
    }
   ],
   "source": [
    "model = get_model().eval().cuda()\n",
    "model.load_state_dict(torch.load('./checkpoints/SuperRes.pt')['state_dict'])"
   ]
  },
  {
   "cell_type": "code",
   "execution_count": 175,
   "id": "55d2b896-b158-41e1-b6a5-f18e343b880d",
   "metadata": {},
   "outputs": [],
   "source": [
    "batch = next(iter(vl_dl))\n",
    "pc = batch['noisy_pc'].F\n",
    "mask = pc[:, -1].bool()\n",
    "pc = pc[mask, :3].reshape(32, 512, 3)[:2]\n",
    "quick_vis_batch(pc, grid=(2, 1), x_offset=8, y_offset= 8)"
   ]
  },
  {
   "cell_type": "code",
   "execution_count": null,
   "id": "cc1f60e9-72b1-4b1f-8988-66e0c9dae8bf",
   "metadata": {},
   "outputs": [],
   "source": [
    "def pad(t, np):\n",
    "    B, N, F = t.shape\n",
    "    padded = torch.zeros(B, np, F).to(t)\n",
    "    padded[:, :N, :] = t\n",
    "\n",
    "    return padded"
   ]
  },
  {
   "cell_type": "code",
   "execution_count": 176,
   "id": "30496d00-5e6e-4b1a-801d-b66006ad2e6a",
   "metadata": {},
   "outputs": [],
   "source": [
    "c = DDPMSparseCompletionSchedulerGPU()"
   ]
  },
  {
   "cell_type": "code",
   "execution_count": 181,
   "id": "a62c642e-9734-4fef-ae08-71663a809fe6",
   "metadata": {},
   "outputs": [],
   "source": [
    "preds = c.complete(pc, model, n_points=4096, save_process=False)"
   ]
  },
  {
   "cell_type": "code",
   "execution_count": 182,
   "id": "d76ef7d9-9893-455f-9cbf-408ace38f271",
   "metadata": {},
   "outputs": [],
   "source": [
    "vis = torch.cat([preds, pad(pc, 4096)], dim=0)"
   ]
  },
  {
   "cell_type": "code",
   "execution_count": 184,
   "id": "d0f43c2f-0fac-4c91-8697-232b03302456",
   "metadata": {},
   "outputs": [],
   "source": [
    "quick_vis_batch(vis, grid=(2, 2), x_offset=8, y_offset= 8)"
   ]
  },
  {
   "cell_type": "code",
   "execution_count": null,
   "id": "2f46f68d-f984-46d8-b1de-490a8a038eba",
   "metadata": {},
   "outputs": [],
   "source": []
  }
 ],
 "metadata": {
  "kernelspec": {
   "display_name": "Python 3 (ipykernel)",
   "language": "python",
   "name": "python3"
  },
  "language_info": {
   "codemirror_mode": {
    "name": "ipython",
    "version": 3
   },
   "file_extension": ".py",
   "mimetype": "text/x-python",
   "name": "python",
   "nbconvert_exporter": "python",
   "pygments_lexer": "ipython3",
   "version": "3.10.14"
  }
 },
 "nbformat": 4,
 "nbformat_minor": 5
}
