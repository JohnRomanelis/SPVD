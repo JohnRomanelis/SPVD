{
 "cells": [
  {
   "cell_type": "code",
   "execution_count": 1,
   "id": "6811e660-fb0d-440c-ba4e-b4da051896b3",
   "metadata": {},
   "outputs": [
    {
     "name": "stdout",
     "output_type": "stream",
     "text": [
      "/home/tourloid/Desktop/PhD/Code/SPVD\n"
     ]
    }
   ],
   "source": [
    "%cd .."
   ]
  },
  {
   "cell_type": "markdown",
   "id": "e9946cb3-71cf-4897-a184-b1f832302690",
   "metadata": {
    "jp-MarkdownHeadingCollapsed": true
   },
   "source": [
    "# Dataset"
   ]
  },
  {
   "cell_type": "code",
   "execution_count": 2,
   "id": "c55c5404-6f49-4059-a398-2069b96fc1a9",
   "metadata": {},
   "outputs": [
    {
     "name": "stdout",
     "output_type": "stream",
     "text": [
      "Jupyter environment detected. Enabling Open3D WebVisualizer.\n",
      "[Open3D INFO] WebRTC GUI backend enabled.\n",
      "[Open3D INFO] WebRTCWindowSystem: HTTP handshake server disabled.\n"
     ]
    }
   ],
   "source": [
    "from datasets.partnet import get_sparse_completion_dataloaders\n",
    "from pclab.utils import DataLoaders"
   ]
  },
  {
   "cell_type": "code",
   "execution_count": 3,
   "id": "3895e4aa-38f5-48e5-878f-07ef70ae86c7",
   "metadata": {},
   "outputs": [],
   "source": [
    "path = './data/PartNetProcessed/'\n",
    "tr_dl, te_dl = get_sparse_completion_dataloaders(path, 'Chair')\n",
    "dls = DataLoaders(tr_dl, te_dl)"
   ]
  },
  {
   "cell_type": "markdown",
   "id": "8c74891d-0253-45f5-a7ae-928533713714",
   "metadata": {
    "jp-MarkdownHeadingCollapsed": true
   },
   "source": [
    "# Model"
   ]
  },
  {
   "cell_type": "code",
   "execution_count": 4,
   "id": "c5e60dc3-a064-4425-87d7-85dba4ad4607",
   "metadata": {},
   "outputs": [],
   "source": [
    "from models.spvd import SPVUnet\n",
    "from functools import partial"
   ]
  },
  {
   "cell_type": "code",
   "execution_count": 5,
   "id": "59b37f69-3514-4694-823f-264a39239c15",
   "metadata": {},
   "outputs": [],
   "source": [
    "get_model = partial(SPVUnet, point_channels=4, voxel_size=0.1, num_layers=1, pres=1e-5,\n",
    "                    down_blocks = [[(32, 64, 128, 192, 192, 256), \n",
    "                                    (True, True, True, True, False), \n",
    "                                    (None, None, None, 8, 8)]], \n",
    "                                    # BLOCK 1\n",
    "                    up_blocks   = [[(256, 192, 192), \n",
    "                                    (True, True), \n",
    "                                    (8, 8), \n",
    "                                    (3, 3)], \n",
    "                                    # BLOCK 2\n",
    "                                   [(192, 128, 64, 32), \n",
    "                                    (True, True, False), \n",
    "                                    (None, None, None), \n",
    "                                    (3, 3, 3)]])"
   ]
  },
  {
   "cell_type": "markdown",
   "id": "55b45747-cc9e-4c7a-ade0-910be27600a6",
   "metadata": {},
   "source": [
    "# Training Loop"
   ]
  },
  {
   "cell_type": "markdown",
   "id": "5d12582a-c6fc-4032-8c5a-77e3e03e575a",
   "metadata": {},
   "source": [
    "## DDPM and MaskedMSELoss"
   ]
  },
  {
   "cell_type": "code",
   "execution_count": 6,
   "id": "fa419391-d13e-498a-9182-ff1e816aae60",
   "metadata": {},
   "outputs": [],
   "source": [
    "from pclab.learner import *\n",
    "from utils.callbacks import *\n",
    "from pclab.learner import Callback\n",
    "from functools import partial\n",
    "import torch\n",
    "import torch.nn as nn"
   ]
  },
  {
   "cell_type": "code",
   "execution_count": 7,
   "id": "7b65228a-c88e-4faf-aae4-32ca91e31bb0",
   "metadata": {},
   "outputs": [],
   "source": [
    "class DDPMCB(Callback):\n",
    "\n",
    "    def before_batch(self, learn):\n",
    "        pts = learn.batch['input']\n",
    "        t = torch.tensor(learn.batch['t'])\n",
    "        inp = (pts, t)\n",
    "        target = learn.batch['noise'], learn.batch['mask'].view(-1)\n",
    "        learn.batch = (inp, target)\n",
    "\n",
    "class CustomMSELoss(nn.Module):\n",
    "\n",
    "    def __init__(self):\n",
    "        super().__init__()\n",
    "\n",
    "        self.loss_fn = nn.MSELoss()\n",
    "    \n",
    "    def forward(self, preds, target):\n",
    "\n",
    "        noise, mask = target\n",
    "\n",
    "        # calculate loss only for the noisy points\n",
    "        preds = preds[~mask, :3]\n",
    "        \n",
    "        noise = noise.view(-1, 3)[~mask]\n",
    "\n",
    "        return self.loss_fn(preds, noise)"
   ]
  },
  {
   "cell_type": "markdown",
   "id": "a0951b95-7c45-4553-a488-cd21af9a57d2",
   "metadata": {},
   "source": [
    "## LR Finder"
   ]
  },
  {
   "cell_type": "code",
   "execution_count": 8,
   "id": "6077fbcd-ee27-44f3-9e80-f52ce04fcc73",
   "metadata": {},
   "outputs": [
    {
     "data": {
      "image/png": "[encoded data removed]",
      "text/plain": [
       "<Figure size 640x480 with 1 Axes>"
      ]
     },
     "metadata": {},
     "output_type": "display_data"
    }
   ],
   "source": [
    "ddpm_cb = DDPMCB()\n",
    "model = get_model()\n",
    "learn = TrainLearner(model, dls, CustomMSELoss(), cbs=[ddpm_cb, DeviceCBSparse(), GradientClipCB()], opt_func=torch.optim.Adam)\n",
    "learn.lr_find(max_mult=3)"
   ]
  },
  {
   "cell_type": "markdown",
   "id": "2abc8bbe-4665-4379-827c-948b21609e02",
   "metadata": {},
   "source": [
    "## Training"
   ]
  },
  {
   "cell_type": "code",
   "execution_count": null,
   "id": "864bef57-4f36-4a6b-8d0a-285f8b984f7c",
   "metadata": {},
   "outputs": [],
   "source": []
  }
 ],
 "metadata": {
  "kernelspec": {
   "display_name": "Python 3 (ipykernel)",
   "language": "python",
   "name": "python3"
  },
  "language_info": {
   "codemirror_mode": {
    "name": "ipython",
    "version": 3
   },
   "file_extension": ".py",
   "mimetype": "text/x-python",
   "name": "python",
   "nbconvert_exporter": "python",
   "pygments_lexer": "ipython3",
   "version": "3.10.14"
  }
 },
 "nbformat": 4,
 "nbformat_minor": 5
}
