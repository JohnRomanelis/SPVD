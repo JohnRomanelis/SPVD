{
 "cells": [
  {
   "cell_type": "code",
   "execution_count": 1,
   "id": "6811e660-fb0d-440c-ba4e-b4da051896b3",
   "metadata": {},
   "outputs": [
    {
     "name": "stdout",
     "output_type": "stream",
     "text": [
      "/home/tourloid/Desktop/PhD/Code/SPVD\n"
     ]
    }
   ],
   "source": [
    "%cd .."
   ]
  },
  {
   "cell_type": "markdown",
   "id": "e9946cb3-71cf-4897-a184-b1f832302690",
   "metadata": {
    "jp-MarkdownHeadingCollapsed": true
   },
   "source": [
    "# Dataset"
   ]
  },
  {
   "cell_type": "code",
   "execution_count": 2,
   "id": "c55c5404-6f49-4059-a398-2069b96fc1a9",
   "metadata": {},
   "outputs": [
    {
     "name": "stdout",
     "output_type": "stream",
     "text": [
      "Jupyter environment detected. Enabling Open3D WebVisualizer.\n",
      "[Open3D INFO] WebRTC GUI backend enabled.\n",
      "[Open3D INFO] WebRTCWindowSystem: HTTP handshake server disabled.\n"
     ]
    }
   ],
   "source": [
    "from datasets.partnet import get_sparse_completion_dataloaders\n",
    "from pclab.utils import DataLoaders"
   ]
  },
  {
   "cell_type": "code",
   "execution_count": 3,
   "id": "3895e4aa-38f5-48e5-878f-07ef70ae86c7",
   "metadata": {},
   "outputs": [],
   "source": [
    "path = './data/PartNetProcessed/'\n",
    "tr_dl, te_dl = get_sparse_completion_dataloaders(path, 'Chair')\n",
    "dls = DataLoaders(tr_dl, te_dl)"
   ]
  },
  {
   "cell_type": "markdown",
   "id": "8c74891d-0253-45f5-a7ae-928533713714",
   "metadata": {
    "jp-MarkdownHeadingCollapsed": true
   },
   "source": [
    "# Model"
   ]
  },
  {
   "cell_type": "code",
   "execution_count": 4,
   "id": "c5e60dc3-a064-4425-87d7-85dba4ad4607",
   "metadata": {},
   "outputs": [],
   "source": [
    "from models.spvd import SPVUnet\n",
    "from functools import partial"
   ]
  },
  {
   "cell_type": "code",
   "execution_count": 5,
   "id": "59b37f69-3514-4694-823f-264a39239c15",
   "metadata": {},
   "outputs": [],
   "source": [
    "get_model = partial(SPVUnet, point_channels=4, voxel_size=0.1, num_layers=1, pres=1e-5,\n",
    "                    down_blocks = [[(32, 64, 128, 192, 192, 256), \n",
    "                                    (True, True, True, True, False), \n",
    "                                    (None, None, None, 8, 8)]], \n",
    "                                    # BLOCK 1\n",
    "                    up_blocks   = [[(256, 192, 192), \n",
    "                                    (True, True), \n",
    "                                    (8, 8), \n",
    "                                    (3, 3)], \n",
    "                                    # BLOCK 2\n",
    "                                   [(192, 128, 64, 32), \n",
    "                                    (True, True, False), \n",
    "                                    (None, None, None), \n",
    "                                    (3, 3, 3)]])"
   ]
  },
  {
   "cell_type": "markdown",
   "id": "55b45747-cc9e-4c7a-ade0-910be27600a6",
   "metadata": {},
   "source": [
    "# Training Loop"
   ]
  },
  {
   "cell_type": "markdown",
   "id": "5d12582a-c6fc-4032-8c5a-77e3e03e575a",
   "metadata": {},
   "source": [
    "## DDPM and MaskedMSELoss"
   ]
  },
  {
   "cell_type": "code",
   "execution_count": 6,
   "id": "fa419391-d13e-498a-9182-ff1e816aae60",
   "metadata": {},
   "outputs": [],
   "source": [
    "from pclab.learner import *\n",
    "from utils.callbacks import *\n",
    "from pclab.learner import Callback\n",
    "from functools import partial\n",
    "import torch\n",
    "import torch.nn as nn"
   ]
  },
  {
   "cell_type": "code",
   "execution_count": 7,
   "id": "7b65228a-c88e-4faf-aae4-32ca91e31bb0",
   "metadata": {},
   "outputs": [],
   "source": [
    "class DDPMCB(Callback):\n",
    "\n",
    "    def before_batch(self, learn):\n",
    "        pts = learn.batch['input']\n",
    "        t = torch.tensor(learn.batch['t'])\n",
    "        inp = (pts, t)\n",
    "        target = learn.batch['noise'], learn.batch['mask'].view(-1)\n",
    "        learn.batch = (inp, target)\n",
    "\n",
    "class CustomMSELoss(nn.Module):\n",
    "\n",
    "    def __init__(self):\n",
    "        super().__init__()\n",
    "\n",
    "        self.loss_fn = nn.MSELoss()\n",
    "    \n",
    "    def forward(self, preds, target):\n",
    "\n",
    "        noise, mask = target\n",
    "\n",
    "        # calculate loss only for the noisy points\n",
    "        preds = preds[~mask, :3]\n",
    "        \n",
    "        noise = noise.view(-1, 3)[~mask]\n",
    "\n",
    "        return self.loss_fn(preds, noise)"
   ]
  },
  {
   "cell_type": "markdown",
   "id": "a0951b95-7c45-4553-a488-cd21af9a57d2",
   "metadata": {},
   "source": [
    "## LR Finder"
   ]
  },
  {
   "cell_type": "code",
   "execution_count": 8,
   "id": "6077fbcd-ee27-44f3-9e80-f52ce04fcc73",
   "metadata": {},
   "outputs": [],
   "source": [
    "# ddpm_cb = DDPMCB()\n",
    "# model = get_model()\n",
    "# learn = TrainLearner(model, dls, CustomMSELoss(), cbs=[ddpm_cb, DeviceCBSparse(), GradientClipCB()], opt_func=torch.optim.Adam)\n",
    "# learn.lr_find(max_mult=3)"
   ]
  },
  {
   "cell_type": "markdown",
   "id": "2abc8bbe-4665-4379-827c-948b21609e02",
   "metadata": {},
   "source": [
    "## Training"
   ]
  },
  {
   "cell_type": "code",
   "execution_count": 9,
   "id": "864bef57-4f36-4a6b-8d0a-285f8b984f7c",
   "metadata": {},
   "outputs": [],
   "source": [
    "# lr = 0.0002 \n",
    "# epochs = 2000\n",
    "\n",
    "# model = get_model()\n",
    "\n",
    "# # scheduler\n",
    "# total_steps = epochs * len(dls.train)\n",
    "# sched = partial(torch.optim.lr_scheduler.OneCycleLR, max_lr=lr, total_steps = total_steps)\n",
    "\n",
    "# # Callbacks\n",
    "# ddpm_cb = DDPMCB()\n",
    "# checkpoint_cb = CheckpointCB(1000, 'CompletionSPVD', run_params={'msg':model.msg})\n",
    "# cbs = [ddpm_cb, DeviceCBSparse(), ProgressCB(plot=False), LossCB(), GradientClipCB(), checkpoint_cb, BatchSchedCB(sched)]\n",
    "\n",
    "# learn = TrainLearner(model, dls, CustomMSELoss(), lr=lr, cbs=cbs, opt_func=torch.optim.Adam)\n",
    "# learn.fit(epochs)"
   ]
  },
  {
   "cell_type": "markdown",
   "id": "4ee691d6-8487-4c07-aedf-beb8e4484f9c",
   "metadata": {},
   "source": [
    "# Test Completion"
   ]
  },
  {
   "cell_type": "code",
   "execution_count": 56,
   "id": "57d71d5e-1bb7-4ab9-a368-7130130260fa",
   "metadata": {},
   "outputs": [],
   "source": [
    "from utils.completion_schedulers import DDPMSparseCompletionSchedulerGPU\n",
    "from utils.visualization import quick_vis_batch, vis_pc_sphere\n",
    "\n",
    "def pad(t, np):\n",
    "    B, N, F = t.shape\n",
    "    padded = torch.zeros(B, np, F).to(t)\n",
    "    padded[:, :N, :] = t\n",
    "\n",
    "    return padded"
   ]
  },
  {
   "cell_type": "code",
   "execution_count": 11,
   "id": "1044aff0-db5d-465e-88ea-cef389791b10",
   "metadata": {},
   "outputs": [],
   "source": [
    "# load model from checkpoint\n",
    "model = get_model()\n",
    "model.load_state_dict(torch.load('./checkpoints/CompletionSPVD.pt')['state_dict'])\n",
    "model = model.eval().cuda()"
   ]
  },
  {
   "cell_type": "code",
   "execution_count": 35,
   "id": "7d50f53b-bb8e-44e0-9057-286bcbef2e9f",
   "metadata": {},
   "outputs": [],
   "source": [
    "sched = DDPMSparseCompletionSchedulerGPU()"
   ]
  },
  {
   "cell_type": "code",
   "execution_count": 36,
   "id": "269f9ccb-d94c-468b-8ca0-8b81cbdc7b74",
   "metadata": {},
   "outputs": [],
   "source": [
    "batch = next(iter(te_dl))"
   ]
  },
  {
   "cell_type": "code",
   "execution_count": 79,
   "id": "f5531784-27f9-46b5-8051-7d3f023ab748",
   "metadata": {},
   "outputs": [
    {
     "ename": "KeyboardInterrupt",
     "evalue": "",
     "output_type": "error",
     "traceback": [
      "\u001b[0;31m---------------------------------------------------------------------------\u001b[0m",
      "\u001b[0;31mKeyboardInterrupt\u001b[0m                         Traceback (most recent call last)",
      "Cell \u001b[0;32mIn[79], line 9\u001b[0m\n\u001b[1;32m      7\u001b[0m \u001b[38;5;66;03m#vis_pc_sphere(pc)\u001b[39;00m\n\u001b[1;32m      8\u001b[0m preds \u001b[38;5;241m=\u001b[39m sched\u001b[38;5;241m.\u001b[39mcomplete(pc\u001b[38;5;241m.\u001b[39munsqueeze(\u001b[38;5;241m0\u001b[39m), model, n_points\u001b[38;5;241m=\u001b[39m\u001b[38;5;241m2048\u001b[39m, save_process\u001b[38;5;241m=\u001b[39m\u001b[38;5;28;01mFalse\u001b[39;00m)\n\u001b[0;32m----> 9\u001b[0m \u001b[43mquick_vis_batch\u001b[49m\u001b[43m(\u001b[49m\u001b[43mtorch\u001b[49m\u001b[38;5;241;43m.\u001b[39;49m\u001b[43mcat\u001b[49m\u001b[43m(\u001b[49m\u001b[43m[\u001b[49m\u001b[43mpad\u001b[49m\u001b[43m(\u001b[49m\u001b[43mpc\u001b[49m\u001b[38;5;241;43m.\u001b[39;49m\u001b[43munsqueeze\u001b[49m\u001b[43m(\u001b[49m\u001b[38;5;241;43m0\u001b[39;49m\u001b[43m)\u001b[49m\u001b[43m,\u001b[49m\u001b[43m \u001b[49m\u001b[38;5;241;43m2048\u001b[39;49m\u001b[43m)\u001b[49m\u001b[43m,\u001b[49m\u001b[43m \u001b[49m\u001b[43mpreds\u001b[49m\u001b[43m]\u001b[49m\u001b[43m,\u001b[49m\u001b[43m \u001b[49m\u001b[43mdim\u001b[49m\u001b[38;5;241;43m=\u001b[39;49m\u001b[38;5;241;43m0\u001b[39;49m\u001b[43m)\u001b[49m\u001b[43m,\u001b[49m\u001b[43m \u001b[49m\u001b[43mgrid\u001b[49m\u001b[38;5;241;43m=\u001b[39;49m\u001b[43m(\u001b[49m\u001b[38;5;241;43m2\u001b[39;49m\u001b[43m,\u001b[49m\u001b[38;5;241;43m1\u001b[39;49m\u001b[43m)\u001b[49m\u001b[43m,\u001b[49m\u001b[43m \u001b[49m\u001b[43mx_offset\u001b[49m\u001b[38;5;241;43m=\u001b[39;49m\u001b[38;5;241;43m6\u001b[39;49m\u001b[43m)\u001b[49m\n",
      "File \u001b[0;32m~/Desktop/PhD/Code/SPVD/utils/visualization.py:46\u001b[0m, in \u001b[0;36mquick_vis_batch\u001b[0;34m(batch, grid, x_offset, y_offset)\u001b[0m\n\u001b[1;32m     42\u001b[0m         k\u001b[38;5;241m+\u001b[39m\u001b[38;5;241m=\u001b[39m\u001b[38;5;241m1\u001b[39m\n\u001b[1;32m     44\u001b[0m     \u001b[38;5;28;01mif\u001b[39;00m k \u001b[38;5;241m>\u001b[39m batch\u001b[38;5;241m.\u001b[39mshape[\u001b[38;5;241m0\u001b[39m]\u001b[38;5;241m-\u001b[39m\u001b[38;5;241m1\u001b[39m: \u001b[38;5;28;01mbreak\u001b[39;00m\n\u001b[0;32m---> 46\u001b[0m \u001b[43mo3d\u001b[49m\u001b[38;5;241;43m.\u001b[39;49m\u001b[43mvisualization\u001b[49m\u001b[38;5;241;43m.\u001b[39;49m\u001b[43mdraw_geometries\u001b[49m\u001b[43m(\u001b[49m\u001b[43mpcts\u001b[49m\u001b[43m)\u001b[49m\n",
      "\u001b[0;31mKeyboardInterrupt\u001b[0m: "
     ]
    }
   ],
   "source": [
    "pc_batch = batch['input'].F.reshape(32, 2048, 4)[..., :3]\n",
    "mask_batch = batch['mask']\n",
    "for idx in range(7, 32):\n",
    "    pc = pc_batch[idx]\n",
    "    mask = mask_batch[idx]\n",
    "    pc = pc[mask]\n",
    "    #vis_pc_sphere(pc)\n",
    "    preds = sched.complete(pc.unsqueeze(0), model, n_points=2048, save_process=False)\n",
    "    quick_vis_batch(torch.cat([pad(pc.unsqueeze(0), 2048), preds], dim=0), grid=(2,1), x_offset=6)"
   ]
  },
  {
   "cell_type": "code",
   "execution_count": 78,
   "id": "ae5c47cf-d766-4157-910c-bc55890d14fe",
   "metadata": {},
   "outputs": [],
   "source": []
  },
  {
   "cell_type": "code",
   "execution_count": 47,
   "id": "0b12f20a-ee78-445c-b7ee-436736d7b70e",
   "metadata": {},
   "outputs": [],
   "source": []
  },
  {
   "cell_type": "code",
   "execution_count": null,
   "id": "57103d12-08fb-4245-ac21-c52b78f6bf05",
   "metadata": {},
   "outputs": [],
   "source": []
  }
 ],
 "metadata": {
  "kernelspec": {
   "display_name": "Python 3 (ipykernel)",
   "language": "python",
   "name": "python3"
  },
  "language_info": {
   "codemirror_mode": {
    "name": "ipython",
    "version": 3
   },
   "file_extension": ".py",
   "mimetype": "text/x-python",
   "name": "python",
   "nbconvert_exporter": "python",
   "pygments_lexer": "ipython3",
   "version": "3.10.14"
  }
 },
 "nbformat": 4,
 "nbformat_minor": 5
}
