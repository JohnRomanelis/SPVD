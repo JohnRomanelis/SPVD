{
 "cells": [
  {
   "cell_type": "code",
   "execution_count": 1,
   "id": "e0946ac7-17e8-463a-b868-16b589485833",
   "metadata": {},
   "outputs": [
    {
     "name": "stdout",
     "output_type": "stream",
     "text": [
      "/home/tourloid/Desktop/PhD/Code/SPVD\n"
     ]
    }
   ],
   "source": [
    "# Go to base directory\n",
    "%cd .."
   ]
  },
  {
   "cell_type": "markdown",
   "id": "c7ed7925-6629-4189-98a8-33889b9e148f",
   "metadata": {},
   "source": [
    "### Imports"
   ]
  },
  {
   "cell_type": "code",
   "execution_count": 2,
   "id": "62b5e86c-840e-4804-95cf-20ee7ab8107d",
   "metadata": {},
   "outputs": [],
   "source": [
    "#export\n",
    "import torch \n",
    "import torch.nn as nn\n",
    "import torchsparse\n",
    "import torchsparse.nn as spnn\n",
    "\n",
    "from utils import model_num_params\n",
    "from models.spvd import PointBlock, StemBlock, SPVDownStage, SPVUpStage, lin, timestep_embedding\n",
    "from models.sparse_utils import initial_voxelize, voxel_to_point, point_to_voxel, PointTensor"
   ]
  },
  {
   "cell_type": "markdown",
   "id": "e5b1d3b9-04e0-4fec-9807-846d027ecc68",
   "metadata": {},
   "source": [
    "## Conditional SPVDUnet"
   ]
  },
  {
   "cell_type": "code",
   "execution_count": 3,
   "id": "54df1843-d6ff-4765-8808-37420f32f738",
   "metadata": {},
   "outputs": [],
   "source": [
    "#export\n",
    "class CondSPVUnet(nn.Module):\n",
    "    \"\"\"\n",
    "        Definition of a DownBlock:\n",
    "        \n",
    "        Convolutions : | 32 -> 64 | 64 -> 128 | 128 -> 192 |\n",
    "        Add down conv: |   True   |   True    |    True    |  \n",
    "        Attn chans:    |   None   |   None    |    None    |\n",
    "        Kernel size:   |     3    |     3     |      3     |  (only to skip conv blocks during upsampling --> reduce parameters)\n",
    "        Name:        How to call this layer\n",
    "\n",
    "    \"\"\"\n",
    "    def __init__(self, point_channels=3, voxel_size=0.1, n_classes=55,\n",
    "                 down_blocks = [[(64, 128, 192, 256, 384, 384), (True, True, True, True, False), (None, None, None, 8, 8)]], # only one point skip connection during downsampling\n",
    "                 up_blocks   = [[(384, 384, 256), (True, True), (8, 8), (3, 3)], \n",
    "                                [(256, 192, 128, 64), (True, True, False), (None, None, None), (3, 3, 3)]],\n",
    "                 num_layers=1, pres=1e-5):\n",
    "        super().__init__()\n",
    "        self.pres=pres\n",
    "        self.voxel_size=voxel_size\n",
    "        self.msg = f'Point Resolution: {self.pres} | Voxel Resolution: {self.voxel_size}\\n'\n",
    "        \n",
    "        # time embedding\n",
    "        self.n_temb = nf = down_blocks[0][0][0]\n",
    "        n_emb = nf * 4\n",
    "        self.emb_mlp = nn.Sequential(lin(self.n_temb, n_emb, norm=nn.BatchNorm1d),\n",
    "                                     lin(n_emb, n_emb))\n",
    "        self.msg += f'Time Embedding size - before mlp: {self.n_temb} , -after mlp: {n_emb} \\n'\n",
    "\n",
    "        # conditional embedding\n",
    "        self.cond_emb = nn.Embedding(n_classes, n_emb)\n",
    "        self.msg += f'Conditional Embedding - classes: {n_classes}, - size: {n_emb} - Params: {model_num_params(self.cond_emb)}\\n' \n",
    "                \n",
    "        self.stem_conv = StemBlock(point_channels, down_blocks[0][0][0])\n",
    "        self.msg += self.stem_conv.msg\n",
    "\n",
    "        add_down_vals = []\n",
    "        self.down_stages = nn.ModuleList()\n",
    "        for i, block_config in enumerate(down_blocks):\n",
    "            nfs, add_down, attn_chans = block_config\n",
    "            add_down_vals.extend(add_down)\n",
    "            name = f'Down Stage {i}'\n",
    "            self.down_stages.append(SPVDownStage(n_emb, nfs=nfs, add_down=add_down, attn_chans=attn_chans, name=name, num_layers=num_layers))\n",
    "            self.msg += self.down_stages[-1].msg\n",
    "        \n",
    "        self.mid_stages = nn.Identity()\n",
    "\n",
    "        self.up_stages = nn.ModuleList()\n",
    "        for i, block_config in enumerate(up_blocks):\n",
    "            nfs, add_up, attn_chans, ks = block_config\n",
    "            name = f'Up Stage {i}'\n",
    "            self.up_stages.append(SPVUpStage(n_emb, nfs=nfs, add_up=add_up, attn_chans=attn_chans, ks=ks, num_layers=num_layers+1, name=name))\n",
    "            self.msg += self.up_stages[-1].msg\n",
    "\n",
    "        self.out_conv = nn.Sequential(\n",
    "            nn.BatchNorm1d(up_blocks[-1][0][-1]),\n",
    "            nn.SiLU(), \n",
    "            nn.Linear(up_blocks[-1][0][-1], point_channels, bias=False),\n",
    "        )\n",
    "\n",
    "        self.msg += '** Noise Predictor ** \\n'\n",
    "        self.msg += f' LinearLayer({up_blocks[-1][0][-1]}, {point_channels})'\n",
    "        self.msg += f' - Params: {model_num_params(self.out_conv)} \\n'\n",
    "        \n",
    "        self.msg += f'Total Parameters: {model_num_params(self)/1e6:0.1f}M'\n",
    "\n",
    "    def summary(self):\n",
    "        print(self.msg)\n",
    "\n",
    "\n",
    "    def forward(self, inp):\n",
    "\n",
    "        # Input Processing\n",
    "        x, t, c = inp\n",
    "        z = PointTensor(x.F, x.C.float()) # CHECK\n",
    "        t = timestep_embedding(t, self.n_temb)\n",
    "        cemb = self.cond_emb(c)\n",
    "        emb = self.emb_mlp(t) + cemb \n",
    "\n",
    "        # Initial Voxelization\n",
    "        x0 = initial_voxelize(z, self.pres, self.voxel_size)\n",
    "\n",
    "        # Stem convolution\n",
    "        x, z = self.stem_conv(x0, z)\n",
    "\n",
    "        saved = [x]\n",
    "\n",
    "        for d in self.down_stages:\n",
    "            x, z = d(x, z, emb)\n",
    "            saved += [p for p in d.saved]\n",
    "\n",
    "        #x = self.mid_stages(x, emb)\n",
    "\n",
    "        for u in self.up_stages:\n",
    "            x, z = u(x, z, emb, saved)\n",
    "        \n",
    "        return self.out_conv(z.F)"
   ]
  },
  {
   "cell_type": "markdown",
   "id": "fea082ba-d7b4-44fb-ab88-f55a143f84db",
   "metadata": {
    "jp-MarkdownHeadingCollapsed": true
   },
   "source": [
    "## Training"
   ]
  },
  {
   "cell_type": "markdown",
   "id": "4ee341e8-d16b-457c-b85b-b0ca0f3efbb9",
   "metadata": {
    "jp-MarkdownHeadingCollapsed": true
   },
   "source": [
    "### DDPM Callback"
   ]
  },
  {
   "cell_type": "code",
   "execution_count": null,
   "id": "0acbafce-8562-432c-8213-2a98b1bf62bb",
   "metadata": {},
   "outputs": [],
   "source": [
    "from pclab.learner import *\n",
    "from utils.callbacks import *\n",
    "from pclab.learner import Callback\n",
    "from functools import partial"
   ]
  },
  {
   "cell_type": "code",
   "execution_count": null,
   "id": "a3587b2a-db82-43f5-9a88-d09ae1c6c759",
   "metadata": {},
   "outputs": [],
   "source": [
    "class CondDDPMCB(Callback):\n",
    "    \n",
    "    def before_batch(self, learn): \n",
    "        pts = learn.batch['input']\n",
    "        t = torch.tensor(learn.batch['t'])\n",
    "        noise = learn.batch['noise']\n",
    "        c = torch.tensor(learn.batch['sid'])\n",
    "        inp = (pts, t, c)\n",
    "        learn.batch = (inp, noise.F)"
   ]
  },
  {
   "cell_type": "markdown",
   "id": "dab411bb-f4d2-4a4f-b4c1-6d4ea7beb0ec",
   "metadata": {
    "jp-MarkdownHeadingCollapsed": true
   },
   "source": [
    "### Datasets and Dataloaders"
   ]
  },
  {
   "cell_type": "code",
   "execution_count": null,
   "id": "81824241-a477-4036-a236-025e42ac9fff",
   "metadata": {},
   "outputs": [],
   "source": [
    "from datasets.shapenet_pointflow_sparse_cond import get_dataloaders\n",
    "from pclab.utils import DataLoaders"
   ]
  },
  {
   "cell_type": "code",
   "execution_count": null,
   "id": "a968807b-8e54-40d2-a49e-89aee1f36246",
   "metadata": {},
   "outputs": [],
   "source": [
    "path = '/home/tourloid/Desktop/PhD/Data/ShapeNetCore.v2.PC15k/'\n",
    "tr_dl, te_dl = get_dataloaders(path, ['all'])\n",
    "dls = DataLoaders(tr_dl, te_dl)"
   ]
  },
  {
   "cell_type": "code",
   "execution_count": null,
   "id": "07fdb64c-859b-40c2-9279-eeb05be18867",
   "metadata": {},
   "outputs": [],
   "source": [
    "batch = next(iter(tr_dl))\n",
    "batch.keys()"
   ]
  },
  {
   "cell_type": "markdown",
   "id": "543b1cd2-3d67-43ae-96c7-a0ddffed9bbf",
   "metadata": {
    "jp-MarkdownHeadingCollapsed": true
   },
   "source": [
    "### LRFinder"
   ]
  },
  {
   "cell_type": "code",
   "execution_count": null,
   "id": "6d209ea3-8fc0-4915-9432-a846ff3d80ec",
   "metadata": {},
   "outputs": [],
   "source": [
    "ddpm_cb = CondDDPMCB()\n",
    "model = CondSPVUnet()\n",
    "learn = TrainLearner(model, dls, nn.MSELoss(), cbs=[ddpm_cb, DeviceCBSparse(), GradientClipCB()], opt_func=torch.optim.Adam)\n",
    "learn.lr_find(max_mult=3)"
   ]
  },
  {
   "cell_type": "markdown",
   "id": "66e2ab38-5e47-49a0-9356-85b03cba946d",
   "metadata": {
    "jp-MarkdownHeadingCollapsed": true
   },
   "source": [
    "### Training"
   ]
  },
  {
   "cell_type": "code",
   "execution_count": null,
   "id": "34ddb1df-3559-40ce-8f49-d2069613c755",
   "metadata": {},
   "outputs": [],
   "source": [
    "lr = 0.0001 \n",
    "epochs = 500\n",
    "\n",
    "model = CondSPVUnet()\n",
    "\n",
    "# scheduler\n",
    "total_steps = epochs * len(dls.train)\n",
    "sched = partial(torch.optim.lr_scheduler.OneCycleLR, max_lr=lr, total_steps = total_steps)\n",
    "\n",
    "# Callbacks\n",
    "ddpm_cb = CondDDPMCB()\n",
    "checkpoint_cb = CheckpointCB(100, 'conditional_model_large', run_params={'msg':model.msg})\n",
    "cbs = [ddpm_cb, DeviceCBSparse(), ProgressCB(plot=True), LossCB(), BatchSchedCB(sched), GradientClipCB(), checkpoint_cb]\n",
    "\n",
    "learn = TrainLearner(model, dls, nn.MSELoss(), lr=lr, cbs=cbs, opt_func=torch.optim.Adam)\n",
    "learn.fit(epochs)"
   ]
  },
  {
   "cell_type": "markdown",
   "id": "19bd3dcb-432a-4d46-9840-bd56b31ca447",
   "metadata": {},
   "source": [
    "## Inference"
   ]
  },
  {
   "cell_type": "code",
   "execution_count": 4,
   "id": "08e3593d-f5cb-4ceb-88f9-7a1c7a4c0d5c",
   "metadata": {},
   "outputs": [
    {
     "name": "stdout",
     "output_type": "stream",
     "text": [
      "Jupyter environment detected. Enabling Open3D WebVisualizer.\n",
      "[Open3D INFO] WebRTC GUI backend enabled.\n",
      "[Open3D INFO] WebRTCWindowSystem: HTTP handshake server disabled.\n"
     ]
    }
   ],
   "source": [
    "from utils.schedulers import DDPMSparseSchedulerGPU\n",
    "from utils.visualization import quick_vis_batch\n",
    "from functools import partial\n",
    "vis_batch = partial(quick_vis_batch, x_offset = 8, y_offset=8)"
   ]
  },
  {
   "cell_type": "code",
   "execution_count": 5,
   "id": "56c9c06a-0ea0-43a0-ad47-4bb8353bce3a",
   "metadata": {},
   "outputs": [],
   "source": [
    "model = CondSPVUnet()\n",
    "model.load_state_dict(torch.load('./checkpoints/conditional_model_large.pt')['state_dict'])\n",
    "model = model.cuda().eval()"
   ]
  },
  {
   "cell_type": "code",
   "execution_count": 8,
   "id": "e9455cf0-5bc1-4a09-b7f5-be79049f81da",
   "metadata": {},
   "outputs": [],
   "source": [
    "ddpm_sched = DDPMSparseSchedulerGPU(n_steps=1000, beta_min=0.0001, beta_max=0.02, pres=1e-5, mode='linear')\n",
    "preds = ddpm_sched.sample(model, 32, 2048, emb=16) \n",
    "vis_batch(preds)"
   ]
  },
  {
   "cell_type": "markdown",
   "id": "5959399a-c026-4bbd-8590-f6bc5e3e6029",
   "metadata": {},
   "source": [
    "## Test"
   ]
  },
  {
   "cell_type": "code",
   "execution_count": 10,
   "id": "54ad4ab6-880f-445a-b3d3-45df51d3085f",
   "metadata": {},
   "outputs": [],
   "source": [
    "from test_generation import evaluate_gen\n",
    "path = '/home/tourloid/Desktop/PhD/Data/ShapeNetCore.v2.PC15k/'"
   ]
  },
  {
   "cell_type": "code",
   "execution_count": 11,
   "id": "9db683d4-1590-462e-a33a-14d1127ee2a8",
   "metadata": {},
   "outputs": [
    {
     "name": "stdout",
     "output_type": "stream",
     "text": [
      "Generating new data...\n",
      "(1, 1, 1)\n",
      "Total number of data:2458\n",
      "Min number of points: (train)2048 (test)2048\n",
      "(1, 1, 1)\n",
      "Total number of data:352\n",
      "Min number of points: (train)2048 (test)2048\n"
     ]
    },
    {
     "name": "stderr",
     "output_type": "stream",
     "text": [
      "100%|██████████████████████████████████████████| 11/11 [22:58<00:00, 125.31s/it]\n"
     ]
    },
    {
     "name": "stdout",
     "output_type": "stream",
     "text": [
      "tensor(0.6704, device='cuda:0') tensor(0.6797, device='cuda:0')\n",
      "tensor(0.0142, device='cuda:0') tensor(0.0097, device='cuda:0')\n",
      "Comparing 352 generated samples of shape [2048, 3] to 352 original samples of shape [2048, 3]\n"
     ]
    },
    {
     "name": "stderr",
     "output_type": "stream",
     "text": [
      "100%|█████████████████████████████████████████| 352/352 [02:21<00:00,  2.49it/s]\n",
      "100%|█████████████████████████████████████████| 352/352 [02:21<00:00,  2.49it/s]\n",
      "100%|█████████████████████████████████████████| 352/352 [02:21<00:00,  2.49it/s]\n"
     ]
    },
    {
     "name": "stdout",
     "output_type": "stream",
     "text": [
      "{'1-NN-CD-acc': 0.9005681872367859,\n",
      " '1-NN-CD-acc_f': 0.9517045617103577,\n",
      " '1-NN-CD-acc_t': 0.8494318127632141,\n",
      " '1-NN-EMD-acc': 0.6676136255264282,\n",
      " '1-NN-EMD-acc_f': 0.7642045617103577,\n",
      " '1-NN-EMD-acc_t': 0.5710227489471436,\n",
      " 'lgan_cov-CD': 0.3323863744735718,\n",
      " 'lgan_cov-EMD': 0.5028409361839294,\n",
      " 'lgan_mmd-CD': 0.0011774464510381222,\n",
      " 'lgan_mmd-EMD': 0.007803451735526323,\n",
      " 'lgan_mmd_smp-CD': 0.0009894026443362236,\n",
      " 'lgan_mmd_smp-EMD': 0.007732071448117495}\n",
      "'JSD: 0.04590809181655331'\n"
     ]
    }
   ],
   "source": [
    "ddpm_sched = DDPMSparseSchedulerGPU(n_steps=1000, beta_min=0.0001, beta_max=0.02, sigma='coef_bt')\n",
    "evaluate_gen(path, model, ddpm_sched, save_path='./results/', cates=['car'], emb=16)"
   ]
  },
  {
   "cell_type": "code",
   "execution_count": null,
   "id": "d14f0cc4-147c-4aef-ae5f-ed0b87572c3d",
   "metadata": {},
   "outputs": [],
   "source": []
  }
 ],
 "metadata": {
  "kernelspec": {
   "display_name": "Python 3 (ipykernel)",
   "language": "python",
   "name": "python3"
  },
  "language_info": {
   "codemirror_mode": {
    "name": "ipython",
    "version": 3
   },
   "file_extension": ".py",
   "mimetype": "text/x-python",
   "name": "python",
   "nbconvert_exporter": "python",
   "pygments_lexer": "ipython3",
   "version": "3.10.14"
  }
 },
 "nbformat": 4,
 "nbformat_minor": 5
}
