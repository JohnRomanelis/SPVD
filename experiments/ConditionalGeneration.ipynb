{
 "cells": [
  {
   "cell_type": "code",
   "execution_count": 1,
   "id": "e0946ac7-17e8-463a-b868-16b589485833",
   "metadata": {},
   "outputs": [
    {
     "name": "stdout",
     "output_type": "stream",
     "text": [
      "/home/vvrbeast/Desktop/Giannis/Code/SPVD\n"
     ]
    }
   ],
   "source": [
    "# Go to base directory\n",
    "%cd .."
   ]
  },
  {
   "cell_type": "markdown",
   "id": "c7ed7925-6629-4189-98a8-33889b9e148f",
   "metadata": {},
   "source": [
    "### Imports"
   ]
  },
  {
   "cell_type": "code",
   "execution_count": 2,
   "id": "62b5e86c-840e-4804-95cf-20ee7ab8107d",
   "metadata": {},
   "outputs": [],
   "source": [
    "#export\n",
    "import torch \n",
    "import torch.nn as nn\n",
    "import torchsparse\n",
    "import torchsparse.nn as spnn\n",
    "\n",
    "from utils import model_num_params\n",
    "from models.spvd import PointBlock, StemBlock, SPVDownStage, SPVUpStage, lin, timestep_embedding\n",
    "from models.sparse_utils import initial_voxelize, voxel_to_point, point_to_voxel, PointTensor"
   ]
  },
  {
   "cell_type": "markdown",
   "id": "e5b1d3b9-04e0-4fec-9807-846d027ecc68",
   "metadata": {},
   "source": [
    "## Conditional SPVDUnet"
   ]
  },
  {
   "cell_type": "code",
   "execution_count": 3,
   "id": "54df1843-d6ff-4765-8808-37420f32f738",
   "metadata": {},
   "outputs": [],
   "source": [
    "#export\n",
    "class CondSPVUnet(nn.Module):\n",
    "    \"\"\"\n",
    "        Definition of a DownBlock:\n",
    "        \n",
    "        Convolutions : | 32 -> 64 | 64 -> 128 | 128 -> 192 |\n",
    "        Add down conv: |   True   |   True    |    True    |  \n",
    "        Attn chans:    |   None   |   None    |    None    |\n",
    "        Kernel size:   |     3    |     3     |      3     |  (only to skip conv blocks during upsampling --> reduce parameters)\n",
    "        Name:        How to call this layer\n",
    "\n",
    "    \"\"\"\n",
    "    def __init__(self, point_channels=3, voxel_size=0.1, n_classes=55,\n",
    "                 down_blocks = [[(64, 128, 192, 256, 384, 384), (True, True, True, True, False), (None, None, None, 8, 8)]], # only one point skip connection during downsampling\n",
    "                 up_blocks   = [[(384, 384, 256), (True, True), (8, 8), (3, 3)], \n",
    "                                [(256, 192, 128, 64), (True, True, False), (None, None, None), (3, 3, 3)]],\n",
    "                 num_layers=1, pres=1e-5):\n",
    "        super().__init__()\n",
    "        self.pres=pres\n",
    "        self.voxel_size=voxel_size\n",
    "        self.msg = f'Point Resolution: {self.pres} | Voxel Resolution: {self.voxel_size}\\n'\n",
    "        \n",
    "        # time embedding\n",
    "        self.n_temb = nf = down_blocks[0][0][0]\n",
    "        n_emb = nf * 4\n",
    "        self.emb_mlp = nn.Sequential(lin(self.n_temb, n_emb, norm=nn.BatchNorm1d),\n",
    "                                     lin(n_emb, n_emb))\n",
    "        self.msg += f'Time Embedding size - before mlp: {self.n_temb} , -after mlp: {n_emb} \\n'\n",
    "\n",
    "        # conditional embedding\n",
    "        self.cond_emb = nn.Embedding(n_classes, n_emb)\n",
    "        self.msg += f'Conditional Embedding - classes: {n_classes}, - size: {n_emb} - Params: {model_num_params(self.cond_emb)}\\n' \n",
    "                \n",
    "        self.stem_conv = StemBlock(point_channels, down_blocks[0][0][0])\n",
    "        self.msg += self.stem_conv.msg\n",
    "\n",
    "        add_down_vals = []\n",
    "        self.down_stages = nn.ModuleList()\n",
    "        for i, block_config in enumerate(down_blocks):\n",
    "            nfs, add_down, attn_chans = block_config\n",
    "            add_down_vals.extend(add_down)\n",
    "            name = f'Down Stage {i}'\n",
    "            self.down_stages.append(SPVDownStage(n_emb, nfs=nfs, add_down=add_down, attn_chans=attn_chans, name=name, num_layers=num_layers))\n",
    "            self.msg += self.down_stages[-1].msg\n",
    "        \n",
    "        self.mid_stages = nn.Identity()\n",
    "\n",
    "        self.up_stages = nn.ModuleList()\n",
    "        for i, block_config in enumerate(up_blocks):\n",
    "            nfs, add_up, attn_chans, ks = block_config\n",
    "            name = f'Up Stage {i}'\n",
    "            self.up_stages.append(SPVUpStage(n_emb, nfs=nfs, add_up=add_up, attn_chans=attn_chans, ks=ks, num_layers=num_layers+1, name=name))\n",
    "            self.msg += self.up_stages[-1].msg\n",
    "\n",
    "        self.out_conv = nn.Sequential(\n",
    "            nn.BatchNorm1d(up_blocks[-1][0][-1]),\n",
    "            nn.SiLU(), \n",
    "            nn.Linear(up_blocks[-1][0][-1], point_channels, bias=False),\n",
    "        )\n",
    "\n",
    "        self.msg += '** Noise Predictor ** \\n'\n",
    "        self.msg += f' LinearLayer({up_blocks[-1][0][-1]}, {point_channels})'\n",
    "        self.msg += f' - Params: {model_num_params(self.out_conv)} \\n'\n",
    "        \n",
    "        self.msg += f'Total Parameters: {model_num_params(self)/1e6:0.1f}M'\n",
    "\n",
    "    def summary(self):\n",
    "        print(self.msg)\n",
    "\n",
    "\n",
    "    def forward(self, inp):\n",
    "\n",
    "        # Input Processing\n",
    "        x, t, c = inp\n",
    "        z = PointTensor(x.F, x.C.float()) # CHECK\n",
    "        t = timestep_embedding(t, self.n_temb)\n",
    "        cemb = self.cond_emb(c)\n",
    "        emb = self.emb_mlp(t) + cemb \n",
    "\n",
    "        # Initial Voxelization\n",
    "        x0 = initial_voxelize(z, self.pres, self.voxel_size)\n",
    "\n",
    "        # Stem convolution\n",
    "        x, z = self.stem_conv(x0, z)\n",
    "\n",
    "        saved = [x]\n",
    "\n",
    "        for d in self.down_stages:\n",
    "            x, z = d(x, z, emb)\n",
    "            saved += [p for p in d.saved]\n",
    "\n",
    "        #x = self.mid_stages(x, emb)\n",
    "\n",
    "        for u in self.up_stages:\n",
    "            x, z = u(x, z, emb, saved)\n",
    "        \n",
    "        return self.out_conv(z.F)"
   ]
  },
  {
   "cell_type": "markdown",
   "id": "fea082ba-d7b4-44fb-ab88-f55a143f84db",
   "metadata": {
    "jp-MarkdownHeadingCollapsed": true
   },
   "source": [
    "## Training"
   ]
  },
  {
   "cell_type": "markdown",
   "id": "4ee341e8-d16b-457c-b85b-b0ca0f3efbb9",
   "metadata": {
    "jp-MarkdownHeadingCollapsed": true
   },
   "source": [
    "### DDPM Callback"
   ]
  },
  {
   "cell_type": "code",
   "execution_count": null,
   "id": "0acbafce-8562-432c-8213-2a98b1bf62bb",
   "metadata": {},
   "outputs": [],
   "source": [
    "from pclab.learner import *\n",
    "from utils.callbacks import *\n",
    "from pclab.learner import Callback\n",
    "from functools import partial"
   ]
  },
  {
   "cell_type": "code",
   "execution_count": null,
   "id": "a3587b2a-db82-43f5-9a88-d09ae1c6c759",
   "metadata": {},
   "outputs": [],
   "source": [
    "class CondDDPMCB(Callback):\n",
    "    \n",
    "    def before_batch(self, learn): \n",
    "        pts = learn.batch['input']\n",
    "        t = torch.tensor(learn.batch['t'])\n",
    "        noise = learn.batch['noise']\n",
    "        c = torch.tensor(learn.batch['sid'])\n",
    "        inp = (pts, t, c)\n",
    "        learn.batch = (inp, noise.F)"
   ]
  },
  {
   "cell_type": "markdown",
   "id": "dab411bb-f4d2-4a4f-b4c1-6d4ea7beb0ec",
   "metadata": {
    "jp-MarkdownHeadingCollapsed": true
   },
   "source": [
    "### Datasets and Dataloaders"
   ]
  },
  {
   "cell_type": "code",
   "execution_count": null,
   "id": "81824241-a477-4036-a236-025e42ac9fff",
   "metadata": {},
   "outputs": [],
   "source": [
    "from datasets.shapenet_pointflow_sparse_cond import get_dataloaders\n",
    "from pclab.utils import DataLoaders"
   ]
  },
  {
   "cell_type": "code",
   "execution_count": null,
   "id": "a968807b-8e54-40d2-a49e-89aee1f36246",
   "metadata": {},
   "outputs": [],
   "source": [
    "path = '/home/tourloid/Desktop/PhD/Data/ShapeNetCore.v2.PC15k/'\n",
    "tr_dl, te_dl = get_dataloaders(path, ['all'])\n",
    "dls = DataLoaders(tr_dl, te_dl)"
   ]
  },
  {
   "cell_type": "code",
   "execution_count": null,
   "id": "07fdb64c-859b-40c2-9279-eeb05be18867",
   "metadata": {},
   "outputs": [],
   "source": [
    "batch = next(iter(tr_dl))\n",
    "batch.keys()"
   ]
  },
  {
   "cell_type": "markdown",
   "id": "543b1cd2-3d67-43ae-96c7-a0ddffed9bbf",
   "metadata": {
    "jp-MarkdownHeadingCollapsed": true
   },
   "source": [
    "### LRFinder"
   ]
  },
  {
   "cell_type": "code",
   "execution_count": null,
   "id": "6d209ea3-8fc0-4915-9432-a846ff3d80ec",
   "metadata": {},
   "outputs": [],
   "source": [
    "ddpm_cb = CondDDPMCB()\n",
    "model = CondSPVUnet()\n",
    "learn = TrainLearner(model, dls, nn.MSELoss(), cbs=[ddpm_cb, DeviceCBSparse(), GradientClipCB()], opt_func=torch.optim.Adam)\n",
    "learn.lr_find(max_mult=3)"
   ]
  },
  {
   "cell_type": "markdown",
   "id": "66e2ab38-5e47-49a0-9356-85b03cba946d",
   "metadata": {
    "jp-MarkdownHeadingCollapsed": true
   },
   "source": [
    "### Training"
   ]
  },
  {
   "cell_type": "code",
   "execution_count": null,
   "id": "34ddb1df-3559-40ce-8f49-d2069613c755",
   "metadata": {},
   "outputs": [],
   "source": [
    "lr = 0.0001 \n",
    "epochs = 500\n",
    "\n",
    "model = CondSPVUnet()\n",
    "\n",
    "# scheduler\n",
    "total_steps = epochs * len(dls.train)\n",
    "sched = partial(torch.optim.lr_scheduler.OneCycleLR, max_lr=lr, total_steps = total_steps)\n",
    "\n",
    "# Callbacks\n",
    "ddpm_cb = CondDDPMCB()\n",
    "checkpoint_cb = CheckpointCB(100, 'conditional_model_large', run_params={'msg':model.msg})\n",
    "cbs = [ddpm_cb, DeviceCBSparse(), ProgressCB(plot=True), LossCB(), BatchSchedCB(sched), GradientClipCB(), checkpoint_cb]\n",
    "\n",
    "learn = TrainLearner(model, dls, nn.MSELoss(), lr=lr, cbs=cbs, opt_func=torch.optim.Adam)\n",
    "learn.fit(epochs)"
   ]
  },
  {
   "cell_type": "markdown",
   "id": "19bd3dcb-432a-4d46-9840-bd56b31ca447",
   "metadata": {},
   "source": [
    "## Inference"
   ]
  },
  {
   "cell_type": "code",
   "execution_count": 4,
   "id": "08e3593d-f5cb-4ceb-88f9-7a1c7a4c0d5c",
   "metadata": {},
   "outputs": [
    {
     "name": "stdout",
     "output_type": "stream",
     "text": [
      "Jupyter environment detected. Enabling Open3D WebVisualizer.\n",
      "[Open3D INFO] WebRTC GUI backend enabled.\n",
      "[Open3D INFO] WebRTCWindowSystem: HTTP handshake server disabled.\n"
     ]
    }
   ],
   "source": [
    "from utils.schedulers import DDPMSparseSchedulerGPU\n",
    "from utils.visualization import quick_vis_batch\n",
    "from functools import partial\n",
    "vis_batch = partial(quick_vis_batch, x_offset = 8, y_offset=8)"
   ]
  },
  {
   "cell_type": "code",
   "execution_count": 5,
   "id": "56c9c06a-0ea0-43a0-ad47-4bb8353bce3a",
   "metadata": {},
   "outputs": [],
   "source": [
    "model = CondSPVUnet()\n",
    "model.load_state_dict(torch.load('./checkpoints/conditional_model_large.pt')['state_dict'])\n",
    "model = model.cuda().eval()"
   ]
  },
  {
   "cell_type": "code",
   "execution_count": 8,
   "id": "e9455cf0-5bc1-4a09-b7f5-be79049f81da",
   "metadata": {},
   "outputs": [],
   "source": [
    "ddpm_sched = DDPMSparseSchedulerGPU(n_steps=1000, beta_min=0.0001, beta_max=0.02, pres=1e-5, mode='linear')\n",
    "preds = ddpm_sched.sample(model, 32, 2048, emb=18) \n",
    "vis_batch(preds)"
   ]
  },
  {
   "cell_type": "markdown",
   "id": "5959399a-c026-4bbd-8590-f6bc5e3e6029",
   "metadata": {},
   "source": [
    "## Test"
   ]
  },
  {
   "cell_type": "code",
   "execution_count": 9,
   "id": "54ad4ab6-880f-445a-b3d3-45df51d3085f",
   "metadata": {},
   "outputs": [],
   "source": [
    "from test_generation import evaluate_gen\n",
    "#path = '/home/tourloid/Desktop/PhD/Data/ShapeNetCore.v2.PC15k/'\n",
    "path = '/home/vvrbeast/Desktop/Giannis/Data/ShapeNetCore.v2.PC15k/'"
   ]
  },
  {
   "cell_type": "markdown",
   "id": "2d8c93c4-7f01-4d12-a31e-6b396bbf391d",
   "metadata": {},
   "source": [
    "### Airplane (emb=0)"
   ]
  },
  {
   "cell_type": "code",
   "execution_count": 10,
   "id": "b1d67e9b-6e78-4b8f-93d3-fa204972af83",
   "metadata": {},
   "outputs": [
    {
     "name": "stdout",
     "output_type": "stream",
     "text": [
      "Generating new data...\n",
      "(1, 1, 1)\n",
      "Total number of data:2832\n",
      "Min number of points: (train)2048 (test)2048\n",
      "(1, 1, 1)\n",
      "Total number of data:405\n",
      "Min number of points: (train)2048 (test)2048\n"
     ]
    },
    {
     "name": "stderr",
     "output_type": "stream",
     "text": [
      " 15%|██████▊                                     | 2/13 [03:01<16:38, 90.78s/it]\n"
     ]
    },
    {
     "ename": "IndexError",
     "evalue": "max(): Expected reduction dim 0 to have non-zero size.",
     "output_type": "error",
     "traceback": [
      "\u001b[0;31m---------------------------------------------------------------------------\u001b[0m",
      "\u001b[0;31mIndexError\u001b[0m                                Traceback (most recent call last)",
      "Cell \u001b[0;32mIn[10], line 2\u001b[0m\n\u001b[1;32m      1\u001b[0m ddpm_sched \u001b[38;5;241m=\u001b[39m DDPMSparseSchedulerGPU(n_steps\u001b[38;5;241m=\u001b[39m\u001b[38;5;241m1000\u001b[39m, beta_min\u001b[38;5;241m=\u001b[39m\u001b[38;5;241m0.0001\u001b[39m, beta_max\u001b[38;5;241m=\u001b[39m\u001b[38;5;241m0.02\u001b[39m, sigma\u001b[38;5;241m=\u001b[39m\u001b[38;5;124m'\u001b[39m\u001b[38;5;124mcoef_bt\u001b[39m\u001b[38;5;124m'\u001b[39m)\n\u001b[0;32m----> 2\u001b[0m \u001b[43mevaluate_gen\u001b[49m\u001b[43m(\u001b[49m\u001b[43mpath\u001b[49m\u001b[43m,\u001b[49m\u001b[43m \u001b[49m\u001b[43mmodel\u001b[49m\u001b[43m,\u001b[49m\u001b[43m \u001b[49m\u001b[43mddpm_sched\u001b[49m\u001b[43m,\u001b[49m\u001b[43m \u001b[49m\u001b[43msave_path\u001b[49m\u001b[38;5;241;43m=\u001b[39;49m\u001b[38;5;124;43m'\u001b[39;49m\u001b[38;5;124;43m./results/\u001b[39;49m\u001b[38;5;124;43m'\u001b[39;49m\u001b[43m,\u001b[49m\u001b[43m \u001b[49m\u001b[43mcates\u001b[49m\u001b[38;5;241;43m=\u001b[39;49m\u001b[43m[\u001b[49m\u001b[38;5;124;43m'\u001b[39;49m\u001b[38;5;124;43mairplane\u001b[39;49m\u001b[38;5;124;43m'\u001b[39;49m\u001b[43m]\u001b[49m\u001b[43m,\u001b[49m\u001b[43m \u001b[49m\u001b[43memb\u001b[49m\u001b[38;5;241;43m=\u001b[39;49m\u001b[38;5;241;43m0\u001b[39;49m\u001b[43m)\u001b[49m\n",
      "File \u001b[0;32m~/Desktop/Giannis/Code/SPVD/test_generation.py:65\u001b[0m, in \u001b[0;36mevaluate_gen\u001b[0;34m(path, model, sampler, save_path, cates, emb, load_samples)\u001b[0m\n\u001b[1;32m     62\u001b[0m \u001b[38;5;66;03m# number of samples, number of points\u001b[39;00m\n\u001b[1;32m     63\u001b[0m B, N \u001b[38;5;241m=\u001b[39m te_pc\u001b[38;5;241m.\u001b[39mshape[\u001b[38;5;241m0\u001b[39m], te_pc\u001b[38;5;241m.\u001b[39mshape[\u001b[38;5;241m1\u001b[39m]\n\u001b[0;32m---> 65\u001b[0m out_pc \u001b[38;5;241m=\u001b[39m \u001b[43msampler\u001b[49m\u001b[38;5;241;43m.\u001b[39;49m\u001b[43msample\u001b[49m\u001b[43m(\u001b[49m\u001b[43mmodel\u001b[49m\u001b[43m,\u001b[49m\u001b[43m \u001b[49m\u001b[43mB\u001b[49m\u001b[43m,\u001b[49m\u001b[43m \u001b[49m\u001b[43mn_points\u001b[49m\u001b[38;5;241;43m=\u001b[39;49m\u001b[43mN\u001b[49m\u001b[43m,\u001b[49m\u001b[43m \u001b[49m\u001b[43memb\u001b[49m\u001b[38;5;241;43m=\u001b[39;49m\u001b[43memb\u001b[49m\u001b[43m)\u001b[49m \u001b[38;5;66;03m#sampler.sample(model, (B, N, 3))[-1] #model.sample(B, N)\u001b[39;00m\n\u001b[1;32m     66\u001b[0m out_pc \u001b[38;5;241m=\u001b[39m out_pc\u001b[38;5;241m.\u001b[39mcuda()\n\u001b[1;32m     69\u001b[0m \u001b[38;5;66;03m# denormalize \u001b[39;00m\n",
      "File \u001b[0;32m~/anaconda3/envs/sparse/lib/python3.10/site-packages/torch/utils/_contextlib.py:115\u001b[0m, in \u001b[0;36mcontext_decorator.<locals>.decorate_context\u001b[0;34m(*args, **kwargs)\u001b[0m\n\u001b[1;32m    112\u001b[0m \u001b[38;5;129m@functools\u001b[39m\u001b[38;5;241m.\u001b[39mwraps(func)\n\u001b[1;32m    113\u001b[0m \u001b[38;5;28;01mdef\u001b[39;00m \u001b[38;5;21mdecorate_context\u001b[39m(\u001b[38;5;241m*\u001b[39margs, \u001b[38;5;241m*\u001b[39m\u001b[38;5;241m*\u001b[39mkwargs):\n\u001b[1;32m    114\u001b[0m     \u001b[38;5;28;01mwith\u001b[39;00m ctx_factory():\n\u001b[0;32m--> 115\u001b[0m         \u001b[38;5;28;01mreturn\u001b[39;00m \u001b[43mfunc\u001b[49m\u001b[43m(\u001b[49m\u001b[38;5;241;43m*\u001b[39;49m\u001b[43margs\u001b[49m\u001b[43m,\u001b[49m\u001b[43m \u001b[49m\u001b[38;5;241;43m*\u001b[39;49m\u001b[38;5;241;43m*\u001b[39;49m\u001b[43mkwargs\u001b[49m\u001b[43m)\u001b[49m\n",
      "File \u001b[0;32m~/Desktop/Giannis/Code/SPVD/utils/schedulers.py:142\u001b[0m, in \u001b[0;36mSchedulerBase.sample\u001b[0;34m(self, model, bs, n_points, nf, emb, save_process)\u001b[0m\n\u001b[1;32m    139\u001b[0m preds \u001b[38;5;241m=\u001b[39m [\u001b[38;5;28mself\u001b[39m\u001b[38;5;241m.\u001b[39mget_pc(x_t, shape)] \n\u001b[1;32m    141\u001b[0m \u001b[38;5;28;01mfor\u001b[39;00m i, t \u001b[38;5;129;01min\u001b[39;00m \u001b[38;5;28menumerate\u001b[39m(\u001b[38;5;28mself\u001b[39m\u001b[38;5;241m.\u001b[39mstrategy\u001b[38;5;241m.\u001b[39msteps):\n\u001b[0;32m--> 142\u001b[0m     x_t \u001b[38;5;241m=\u001b[39m \u001b[38;5;28;43mself\u001b[39;49m\u001b[38;5;241;43m.\u001b[39;49m\u001b[43msample_step\u001b[49m\u001b[43m(\u001b[49m\u001b[43mmodel\u001b[49m\u001b[43m,\u001b[49m\u001b[43m \u001b[49m\u001b[43mx_t\u001b[49m\u001b[43m,\u001b[49m\u001b[43m \u001b[49m\u001b[43mt\u001b[49m\u001b[43m,\u001b[49m\u001b[43m \u001b[49m\u001b[43mi\u001b[49m\u001b[43m,\u001b[49m\u001b[43m \u001b[49m\u001b[43memb\u001b[49m\u001b[43m,\u001b[49m\u001b[43m \u001b[49m\u001b[43mshape\u001b[49m\u001b[43m,\u001b[49m\u001b[43m \u001b[49m\u001b[43mdevice\u001b[49m\u001b[43m)\u001b[49m\n\u001b[1;32m    143\u001b[0m     \u001b[38;5;28;01mif\u001b[39;00m save_process: preds\u001b[38;5;241m.\u001b[39mappend(\u001b[38;5;28mself\u001b[39m\u001b[38;5;241m.\u001b[39mget_pc(x_t, shape)) \n\u001b[1;32m    145\u001b[0m \u001b[38;5;28;01mreturn\u001b[39;00m preds \u001b[38;5;28;01mif\u001b[39;00m save_process \u001b[38;5;28;01melse\u001b[39;00m \u001b[38;5;28mself\u001b[39m\u001b[38;5;241m.\u001b[39mget_pc(x_t, shape)\n",
      "File \u001b[0;32m~/Desktop/Giannis/Code/SPVD/utils/schedulers.py:165\u001b[0m, in \u001b[0;36mSchedulerBase.sample_step\u001b[0;34m(self, model, x_t, t, i, emb, shape, device)\u001b[0m\n\u001b[1;32m    162\u001b[0m t_batch \u001b[38;5;241m=\u001b[39m torch\u001b[38;5;241m.\u001b[39mfull((bs,), t, device\u001b[38;5;241m=\u001b[39mdevice, dtype\u001b[38;5;241m=\u001b[39mtorch\u001b[38;5;241m.\u001b[39mlong)\n\u001b[1;32m    164\u001b[0m \u001b[38;5;66;03m# activate the model to predict the noise\u001b[39;00m\n\u001b[0;32m--> 165\u001b[0m noise_pred \u001b[38;5;241m=\u001b[39m model((x_t, t_batch)) \u001b[38;5;28;01mif\u001b[39;00m emb \u001b[38;5;129;01mis\u001b[39;00m \u001b[38;5;28;01mNone\u001b[39;00m \u001b[38;5;28;01melse\u001b[39;00m \u001b[43mmodel\u001b[49m\u001b[43m(\u001b[49m\u001b[43m(\u001b[49m\u001b[43mx_t\u001b[49m\u001b[43m,\u001b[49m\u001b[43m \u001b[49m\u001b[43mt_batch\u001b[49m\u001b[43m,\u001b[49m\u001b[43m \u001b[49m\u001b[43memb\u001b[49m\u001b[43m)\u001b[49m\u001b[43m)\u001b[49m\n\u001b[1;32m    167\u001b[0m \u001b[38;5;66;03m# calculate the new point coordinates\u001b[39;00m\n\u001b[1;32m    168\u001b[0m x_t \u001b[38;5;241m=\u001b[39m \u001b[38;5;28mself\u001b[39m\u001b[38;5;241m.\u001b[39mupdate_rule(x_t, noise_pred, t, i, shape, device)\n",
      "File \u001b[0;32m~/anaconda3/envs/sparse/lib/python3.10/site-packages/torch/nn/modules/module.py:1501\u001b[0m, in \u001b[0;36mModule._call_impl\u001b[0;34m(self, *args, **kwargs)\u001b[0m\n\u001b[1;32m   1496\u001b[0m \u001b[38;5;66;03m# If we don't have any hooks, we want to skip the rest of the logic in\u001b[39;00m\n\u001b[1;32m   1497\u001b[0m \u001b[38;5;66;03m# this function, and just call forward.\u001b[39;00m\n\u001b[1;32m   1498\u001b[0m \u001b[38;5;28;01mif\u001b[39;00m \u001b[38;5;129;01mnot\u001b[39;00m (\u001b[38;5;28mself\u001b[39m\u001b[38;5;241m.\u001b[39m_backward_hooks \u001b[38;5;129;01mor\u001b[39;00m \u001b[38;5;28mself\u001b[39m\u001b[38;5;241m.\u001b[39m_backward_pre_hooks \u001b[38;5;129;01mor\u001b[39;00m \u001b[38;5;28mself\u001b[39m\u001b[38;5;241m.\u001b[39m_forward_hooks \u001b[38;5;129;01mor\u001b[39;00m \u001b[38;5;28mself\u001b[39m\u001b[38;5;241m.\u001b[39m_forward_pre_hooks\n\u001b[1;32m   1499\u001b[0m         \u001b[38;5;129;01mor\u001b[39;00m _global_backward_pre_hooks \u001b[38;5;129;01mor\u001b[39;00m _global_backward_hooks\n\u001b[1;32m   1500\u001b[0m         \u001b[38;5;129;01mor\u001b[39;00m _global_forward_hooks \u001b[38;5;129;01mor\u001b[39;00m _global_forward_pre_hooks):\n\u001b[0;32m-> 1501\u001b[0m     \u001b[38;5;28;01mreturn\u001b[39;00m \u001b[43mforward_call\u001b[49m\u001b[43m(\u001b[49m\u001b[38;5;241;43m*\u001b[39;49m\u001b[43margs\u001b[49m\u001b[43m,\u001b[49m\u001b[43m \u001b[49m\u001b[38;5;241;43m*\u001b[39;49m\u001b[38;5;241;43m*\u001b[39;49m\u001b[43mkwargs\u001b[49m\u001b[43m)\u001b[49m\n\u001b[1;32m   1502\u001b[0m \u001b[38;5;66;03m# Do not call functions when jit is used\u001b[39;00m\n\u001b[1;32m   1503\u001b[0m full_backward_hooks, non_full_backward_hooks \u001b[38;5;241m=\u001b[39m [], []\n",
      "Cell \u001b[0;32mIn[3], line 89\u001b[0m, in \u001b[0;36mCondSPVUnet.forward\u001b[0;34m(self, inp)\u001b[0m\n\u001b[1;32m     86\u001b[0m saved \u001b[38;5;241m=\u001b[39m [x]\n\u001b[1;32m     88\u001b[0m \u001b[38;5;28;01mfor\u001b[39;00m d \u001b[38;5;129;01min\u001b[39;00m \u001b[38;5;28mself\u001b[39m\u001b[38;5;241m.\u001b[39mdown_stages:\n\u001b[0;32m---> 89\u001b[0m     x, z \u001b[38;5;241m=\u001b[39m \u001b[43md\u001b[49m\u001b[43m(\u001b[49m\u001b[43mx\u001b[49m\u001b[43m,\u001b[49m\u001b[43m \u001b[49m\u001b[43mz\u001b[49m\u001b[43m,\u001b[49m\u001b[43m \u001b[49m\u001b[43memb\u001b[49m\u001b[43m)\u001b[49m\n\u001b[1;32m     90\u001b[0m     saved \u001b[38;5;241m+\u001b[39m\u001b[38;5;241m=\u001b[39m [p \u001b[38;5;28;01mfor\u001b[39;00m p \u001b[38;5;129;01min\u001b[39;00m d\u001b[38;5;241m.\u001b[39msaved]\n\u001b[1;32m     92\u001b[0m \u001b[38;5;66;03m#x = self.mid_stages(x, emb)\u001b[39;00m\n",
      "File \u001b[0;32m~/anaconda3/envs/sparse/lib/python3.10/site-packages/torch/nn/modules/module.py:1501\u001b[0m, in \u001b[0;36mModule._call_impl\u001b[0;34m(self, *args, **kwargs)\u001b[0m\n\u001b[1;32m   1496\u001b[0m \u001b[38;5;66;03m# If we don't have any hooks, we want to skip the rest of the logic in\u001b[39;00m\n\u001b[1;32m   1497\u001b[0m \u001b[38;5;66;03m# this function, and just call forward.\u001b[39;00m\n\u001b[1;32m   1498\u001b[0m \u001b[38;5;28;01mif\u001b[39;00m \u001b[38;5;129;01mnot\u001b[39;00m (\u001b[38;5;28mself\u001b[39m\u001b[38;5;241m.\u001b[39m_backward_hooks \u001b[38;5;129;01mor\u001b[39;00m \u001b[38;5;28mself\u001b[39m\u001b[38;5;241m.\u001b[39m_backward_pre_hooks \u001b[38;5;129;01mor\u001b[39;00m \u001b[38;5;28mself\u001b[39m\u001b[38;5;241m.\u001b[39m_forward_hooks \u001b[38;5;129;01mor\u001b[39;00m \u001b[38;5;28mself\u001b[39m\u001b[38;5;241m.\u001b[39m_forward_pre_hooks\n\u001b[1;32m   1499\u001b[0m         \u001b[38;5;129;01mor\u001b[39;00m _global_backward_pre_hooks \u001b[38;5;129;01mor\u001b[39;00m _global_backward_hooks\n\u001b[1;32m   1500\u001b[0m         \u001b[38;5;129;01mor\u001b[39;00m _global_forward_hooks \u001b[38;5;129;01mor\u001b[39;00m _global_forward_pre_hooks):\n\u001b[0;32m-> 1501\u001b[0m     \u001b[38;5;28;01mreturn\u001b[39;00m \u001b[43mforward_call\u001b[49m\u001b[43m(\u001b[49m\u001b[38;5;241;43m*\u001b[39;49m\u001b[43margs\u001b[49m\u001b[43m,\u001b[49m\u001b[43m \u001b[49m\u001b[38;5;241;43m*\u001b[39;49m\u001b[38;5;241;43m*\u001b[39;49m\u001b[43mkwargs\u001b[49m\u001b[43m)\u001b[49m\n\u001b[1;32m   1502\u001b[0m \u001b[38;5;66;03m# Do not call functions when jit is used\u001b[39;00m\n\u001b[1;32m   1503\u001b[0m full_backward_hooks, non_full_backward_hooks \u001b[38;5;241m=\u001b[39m [], []\n",
      "File \u001b[0;32m~/Desktop/Giannis/Code/SPVD/models/spvd.py:148\u001b[0m, in \u001b[0;36mSPVDownStage.forward\u001b[0;34m(self, x, z, emb)\u001b[0m\n\u001b[1;32m    145\u001b[0m \u001b[38;5;28mself\u001b[39m\u001b[38;5;241m.\u001b[39msaved \u001b[38;5;241m=\u001b[39m []\n\u001b[1;32m    147\u001b[0m \u001b[38;5;28;01mfor\u001b[39;00m block \u001b[38;5;129;01min\u001b[39;00m \u001b[38;5;28mself\u001b[39m\u001b[38;5;241m.\u001b[39mdowns:\n\u001b[0;32m--> 148\u001b[0m     x \u001b[38;5;241m=\u001b[39m \u001b[43mblock\u001b[49m\u001b[43m(\u001b[49m\u001b[43mx\u001b[49m\u001b[43m,\u001b[49m\u001b[43m \u001b[49m\u001b[43memb\u001b[49m\u001b[43m)\u001b[49m\n\u001b[1;32m    149\u001b[0m \u001b[38;5;28mself\u001b[39m\u001b[38;5;241m.\u001b[39msaved \u001b[38;5;241m+\u001b[39m\u001b[38;5;241m=\u001b[39m [p \u001b[38;5;28;01mfor\u001b[39;00m o \u001b[38;5;129;01min\u001b[39;00m \u001b[38;5;28mself\u001b[39m\u001b[38;5;241m.\u001b[39mdowns \u001b[38;5;28;01mfor\u001b[39;00m p \u001b[38;5;129;01min\u001b[39;00m o\u001b[38;5;241m.\u001b[39msaved]\n\u001b[1;32m    151\u001b[0m \u001b[38;5;66;03m# move to points\u001b[39;00m\n",
      "File \u001b[0;32m~/anaconda3/envs/sparse/lib/python3.10/site-packages/torch/nn/modules/module.py:1501\u001b[0m, in \u001b[0;36mModule._call_impl\u001b[0;34m(self, *args, **kwargs)\u001b[0m\n\u001b[1;32m   1496\u001b[0m \u001b[38;5;66;03m# If we don't have any hooks, we want to skip the rest of the logic in\u001b[39;00m\n\u001b[1;32m   1497\u001b[0m \u001b[38;5;66;03m# this function, and just call forward.\u001b[39;00m\n\u001b[1;32m   1498\u001b[0m \u001b[38;5;28;01mif\u001b[39;00m \u001b[38;5;129;01mnot\u001b[39;00m (\u001b[38;5;28mself\u001b[39m\u001b[38;5;241m.\u001b[39m_backward_hooks \u001b[38;5;129;01mor\u001b[39;00m \u001b[38;5;28mself\u001b[39m\u001b[38;5;241m.\u001b[39m_backward_pre_hooks \u001b[38;5;129;01mor\u001b[39;00m \u001b[38;5;28mself\u001b[39m\u001b[38;5;241m.\u001b[39m_forward_hooks \u001b[38;5;129;01mor\u001b[39;00m \u001b[38;5;28mself\u001b[39m\u001b[38;5;241m.\u001b[39m_forward_pre_hooks\n\u001b[1;32m   1499\u001b[0m         \u001b[38;5;129;01mor\u001b[39;00m _global_backward_pre_hooks \u001b[38;5;129;01mor\u001b[39;00m _global_backward_hooks\n\u001b[1;32m   1500\u001b[0m         \u001b[38;5;129;01mor\u001b[39;00m _global_forward_hooks \u001b[38;5;129;01mor\u001b[39;00m _global_forward_pre_hooks):\n\u001b[0;32m-> 1501\u001b[0m     \u001b[38;5;28;01mreturn\u001b[39;00m \u001b[43mforward_call\u001b[49m\u001b[43m(\u001b[49m\u001b[38;5;241;43m*\u001b[39;49m\u001b[43margs\u001b[49m\u001b[43m,\u001b[49m\u001b[43m \u001b[49m\u001b[38;5;241;43m*\u001b[39;49m\u001b[38;5;241;43m*\u001b[39;49m\u001b[43mkwargs\u001b[49m\u001b[43m)\u001b[49m\n\u001b[1;32m   1502\u001b[0m \u001b[38;5;66;03m# Do not call functions when jit is used\u001b[39;00m\n\u001b[1;32m   1503\u001b[0m full_backward_hooks, non_full_backward_hooks \u001b[38;5;241m=\u001b[39m [], []\n",
      "File \u001b[0;32m~/Desktop/Giannis/Code/SPVD/models/spvd.py:117\u001b[0m, in \u001b[0;36mDownBlock.forward\u001b[0;34m(self, x, t)\u001b[0m\n\u001b[1;32m    115\u001b[0m \u001b[38;5;28;01mdef\u001b[39;00m \u001b[38;5;21mforward\u001b[39m(\u001b[38;5;28mself\u001b[39m, x, t):\n\u001b[1;32m    116\u001b[0m     \u001b[38;5;28mself\u001b[39m\u001b[38;5;241m.\u001b[39msaved \u001b[38;5;241m=\u001b[39m []\n\u001b[0;32m--> 117\u001b[0m     \u001b[38;5;28;01mfor\u001b[39;00m resnet \u001b[38;5;129;01min\u001b[39;00m \u001b[38;5;28mself\u001b[39m\u001b[38;5;241m.\u001b[39mresnets: x \u001b[38;5;241m=\u001b[39m \u001b[43mresnet\u001b[49m\u001b[43m(\u001b[49m\u001b[43mx\u001b[49m\u001b[43m,\u001b[49m\u001b[43m \u001b[49m\u001b[43mt\u001b[49m\u001b[43m)\u001b[49m\n\u001b[1;32m    118\u001b[0m     x \u001b[38;5;241m=\u001b[39m \u001b[38;5;28mself\u001b[39m\u001b[38;5;241m.\u001b[39mdown(x)\n\u001b[1;32m    119\u001b[0m     \u001b[38;5;28;01mreturn\u001b[39;00m x\n",
      "File \u001b[0;32m~/anaconda3/envs/sparse/lib/python3.10/site-packages/torch/nn/modules/module.py:1501\u001b[0m, in \u001b[0;36mModule._call_impl\u001b[0;34m(self, *args, **kwargs)\u001b[0m\n\u001b[1;32m   1496\u001b[0m \u001b[38;5;66;03m# If we don't have any hooks, we want to skip the rest of the logic in\u001b[39;00m\n\u001b[1;32m   1497\u001b[0m \u001b[38;5;66;03m# this function, and just call forward.\u001b[39;00m\n\u001b[1;32m   1498\u001b[0m \u001b[38;5;28;01mif\u001b[39;00m \u001b[38;5;129;01mnot\u001b[39;00m (\u001b[38;5;28mself\u001b[39m\u001b[38;5;241m.\u001b[39m_backward_hooks \u001b[38;5;129;01mor\u001b[39;00m \u001b[38;5;28mself\u001b[39m\u001b[38;5;241m.\u001b[39m_backward_pre_hooks \u001b[38;5;129;01mor\u001b[39;00m \u001b[38;5;28mself\u001b[39m\u001b[38;5;241m.\u001b[39m_forward_hooks \u001b[38;5;129;01mor\u001b[39;00m \u001b[38;5;28mself\u001b[39m\u001b[38;5;241m.\u001b[39m_forward_pre_hooks\n\u001b[1;32m   1499\u001b[0m         \u001b[38;5;129;01mor\u001b[39;00m _global_backward_pre_hooks \u001b[38;5;129;01mor\u001b[39;00m _global_backward_hooks\n\u001b[1;32m   1500\u001b[0m         \u001b[38;5;129;01mor\u001b[39;00m _global_forward_hooks \u001b[38;5;129;01mor\u001b[39;00m _global_forward_pre_hooks):\n\u001b[0;32m-> 1501\u001b[0m     \u001b[38;5;28;01mreturn\u001b[39;00m \u001b[43mforward_call\u001b[49m\u001b[43m(\u001b[49m\u001b[38;5;241;43m*\u001b[39;49m\u001b[43margs\u001b[49m\u001b[43m,\u001b[49m\u001b[43m \u001b[49m\u001b[38;5;241;43m*\u001b[39;49m\u001b[38;5;241;43m*\u001b[39;49m\u001b[43mkwargs\u001b[49m\u001b[43m)\u001b[49m\n\u001b[1;32m   1502\u001b[0m \u001b[38;5;66;03m# Do not call functions when jit is used\u001b[39;00m\n\u001b[1;32m   1503\u001b[0m full_backward_hooks, non_full_backward_hooks \u001b[38;5;241m=\u001b[39m [], []\n",
      "File \u001b[0;32m~/Desktop/Giannis/Code/SPVD/models/ddpm_unet.py:56\u001b[0m, in \u001b[0;36msaved.<locals>._f\u001b[0;34m(*args, **kwargs)\u001b[0m\n\u001b[1;32m     54\u001b[0m \u001b[38;5;129m@wraps\u001b[39m(m\u001b[38;5;241m.\u001b[39mforward)\n\u001b[1;32m     55\u001b[0m \u001b[38;5;28;01mdef\u001b[39;00m \u001b[38;5;21m_f\u001b[39m(\u001b[38;5;241m*\u001b[39margs, \u001b[38;5;241m*\u001b[39m\u001b[38;5;241m*\u001b[39mkwargs):\n\u001b[0;32m---> 56\u001b[0m     res \u001b[38;5;241m=\u001b[39m \u001b[43mm_\u001b[49m\u001b[43m(\u001b[49m\u001b[38;5;241;43m*\u001b[39;49m\u001b[43margs\u001b[49m\u001b[43m,\u001b[49m\u001b[43m \u001b[49m\u001b[38;5;241;43m*\u001b[39;49m\u001b[38;5;241;43m*\u001b[39;49m\u001b[43mkwargs\u001b[49m\u001b[43m)\u001b[49m\n\u001b[1;32m     57\u001b[0m     blk\u001b[38;5;241m.\u001b[39msaved\u001b[38;5;241m.\u001b[39mappend(res)\n\u001b[1;32m     58\u001b[0m     \u001b[38;5;28;01mreturn\u001b[39;00m res\n",
      "File \u001b[0;32m~/Desktop/Giannis/Code/SPVD/models/ddpm_unet_attn.py:51\u001b[0m, in \u001b[0;36mEmbResBlock.forward\u001b[0;34m(self, x_in, t)\u001b[0m\n\u001b[1;32m     48\u001b[0m \u001b[38;5;28;01mdef\u001b[39;00m \u001b[38;5;21mforward\u001b[39m(\u001b[38;5;28mself\u001b[39m, x_in, t):\n\u001b[1;32m     49\u001b[0m \n\u001b[1;32m     50\u001b[0m     \u001b[38;5;66;03m# first conv\u001b[39;00m\n\u001b[0;32m---> 51\u001b[0m     x \u001b[38;5;241m=\u001b[39m \u001b[38;5;28;43mself\u001b[39;49m\u001b[38;5;241;43m.\u001b[39;49m\u001b[43mconv1\u001b[49m\u001b[43m(\u001b[49m\u001b[43mx_in\u001b[49m\u001b[43m)\u001b[49m\n\u001b[1;32m     53\u001b[0m     \u001b[38;5;66;03m# time embedding\u001b[39;00m\n\u001b[1;32m     54\u001b[0m     x\u001b[38;5;241m.\u001b[39mF \u001b[38;5;241m=\u001b[39m \u001b[38;5;28mself\u001b[39m\u001b[38;5;241m.\u001b[39mt_emb(x\u001b[38;5;241m.\u001b[39mF, t, x\u001b[38;5;241m.\u001b[39mC[:, \u001b[38;5;241m0\u001b[39m])\n",
      "File \u001b[0;32m~/anaconda3/envs/sparse/lib/python3.10/site-packages/torch/nn/modules/module.py:1501\u001b[0m, in \u001b[0;36mModule._call_impl\u001b[0;34m(self, *args, **kwargs)\u001b[0m\n\u001b[1;32m   1496\u001b[0m \u001b[38;5;66;03m# If we don't have any hooks, we want to skip the rest of the logic in\u001b[39;00m\n\u001b[1;32m   1497\u001b[0m \u001b[38;5;66;03m# this function, and just call forward.\u001b[39;00m\n\u001b[1;32m   1498\u001b[0m \u001b[38;5;28;01mif\u001b[39;00m \u001b[38;5;129;01mnot\u001b[39;00m (\u001b[38;5;28mself\u001b[39m\u001b[38;5;241m.\u001b[39m_backward_hooks \u001b[38;5;129;01mor\u001b[39;00m \u001b[38;5;28mself\u001b[39m\u001b[38;5;241m.\u001b[39m_backward_pre_hooks \u001b[38;5;129;01mor\u001b[39;00m \u001b[38;5;28mself\u001b[39m\u001b[38;5;241m.\u001b[39m_forward_hooks \u001b[38;5;129;01mor\u001b[39;00m \u001b[38;5;28mself\u001b[39m\u001b[38;5;241m.\u001b[39m_forward_pre_hooks\n\u001b[1;32m   1499\u001b[0m         \u001b[38;5;129;01mor\u001b[39;00m _global_backward_pre_hooks \u001b[38;5;129;01mor\u001b[39;00m _global_backward_hooks\n\u001b[1;32m   1500\u001b[0m         \u001b[38;5;129;01mor\u001b[39;00m _global_forward_hooks \u001b[38;5;129;01mor\u001b[39;00m _global_forward_pre_hooks):\n\u001b[0;32m-> 1501\u001b[0m     \u001b[38;5;28;01mreturn\u001b[39;00m \u001b[43mforward_call\u001b[49m\u001b[43m(\u001b[49m\u001b[38;5;241;43m*\u001b[39;49m\u001b[43margs\u001b[49m\u001b[43m,\u001b[49m\u001b[43m \u001b[49m\u001b[38;5;241;43m*\u001b[39;49m\u001b[38;5;241;43m*\u001b[39;49m\u001b[43mkwargs\u001b[49m\u001b[43m)\u001b[49m\n\u001b[1;32m   1502\u001b[0m \u001b[38;5;66;03m# Do not call functions when jit is used\u001b[39;00m\n\u001b[1;32m   1503\u001b[0m full_backward_hooks, non_full_backward_hooks \u001b[38;5;241m=\u001b[39m [], []\n",
      "File \u001b[0;32m~/anaconda3/envs/sparse/lib/python3.10/site-packages/torch/nn/modules/container.py:217\u001b[0m, in \u001b[0;36mSequential.forward\u001b[0;34m(self, input)\u001b[0m\n\u001b[1;32m    215\u001b[0m \u001b[38;5;28;01mdef\u001b[39;00m \u001b[38;5;21mforward\u001b[39m(\u001b[38;5;28mself\u001b[39m, \u001b[38;5;28minput\u001b[39m):\n\u001b[1;32m    216\u001b[0m     \u001b[38;5;28;01mfor\u001b[39;00m module \u001b[38;5;129;01min\u001b[39;00m \u001b[38;5;28mself\u001b[39m:\n\u001b[0;32m--> 217\u001b[0m         \u001b[38;5;28minput\u001b[39m \u001b[38;5;241m=\u001b[39m \u001b[43mmodule\u001b[49m\u001b[43m(\u001b[49m\u001b[38;5;28;43minput\u001b[39;49m\u001b[43m)\u001b[49m\n\u001b[1;32m    218\u001b[0m     \u001b[38;5;28;01mreturn\u001b[39;00m \u001b[38;5;28minput\u001b[39m\n",
      "File \u001b[0;32m~/anaconda3/envs/sparse/lib/python3.10/site-packages/torch/nn/modules/module.py:1501\u001b[0m, in \u001b[0;36mModule._call_impl\u001b[0;34m(self, *args, **kwargs)\u001b[0m\n\u001b[1;32m   1496\u001b[0m \u001b[38;5;66;03m# If we don't have any hooks, we want to skip the rest of the logic in\u001b[39;00m\n\u001b[1;32m   1497\u001b[0m \u001b[38;5;66;03m# this function, and just call forward.\u001b[39;00m\n\u001b[1;32m   1498\u001b[0m \u001b[38;5;28;01mif\u001b[39;00m \u001b[38;5;129;01mnot\u001b[39;00m (\u001b[38;5;28mself\u001b[39m\u001b[38;5;241m.\u001b[39m_backward_hooks \u001b[38;5;129;01mor\u001b[39;00m \u001b[38;5;28mself\u001b[39m\u001b[38;5;241m.\u001b[39m_backward_pre_hooks \u001b[38;5;129;01mor\u001b[39;00m \u001b[38;5;28mself\u001b[39m\u001b[38;5;241m.\u001b[39m_forward_hooks \u001b[38;5;129;01mor\u001b[39;00m \u001b[38;5;28mself\u001b[39m\u001b[38;5;241m.\u001b[39m_forward_pre_hooks\n\u001b[1;32m   1499\u001b[0m         \u001b[38;5;129;01mor\u001b[39;00m _global_backward_pre_hooks \u001b[38;5;129;01mor\u001b[39;00m _global_backward_hooks\n\u001b[1;32m   1500\u001b[0m         \u001b[38;5;129;01mor\u001b[39;00m _global_forward_hooks \u001b[38;5;129;01mor\u001b[39;00m _global_forward_pre_hooks):\n\u001b[0;32m-> 1501\u001b[0m     \u001b[38;5;28;01mreturn\u001b[39;00m \u001b[43mforward_call\u001b[49m\u001b[43m(\u001b[49m\u001b[38;5;241;43m*\u001b[39;49m\u001b[43margs\u001b[49m\u001b[43m,\u001b[49m\u001b[43m \u001b[49m\u001b[38;5;241;43m*\u001b[39;49m\u001b[38;5;241;43m*\u001b[39;49m\u001b[43mkwargs\u001b[49m\u001b[43m)\u001b[49m\n\u001b[1;32m   1502\u001b[0m \u001b[38;5;66;03m# Do not call functions when jit is used\u001b[39;00m\n\u001b[1;32m   1503\u001b[0m full_backward_hooks, non_full_backward_hooks \u001b[38;5;241m=\u001b[39m [], []\n",
      "File \u001b[0;32m~/anaconda3/envs/sparse/lib/python3.10/site-packages/torchsparse-2.1.0-py3.10-linux-x86_64.egg/torchsparse/nn/modules/conv.py:98\u001b[0m, in \u001b[0;36mConv3d.forward\u001b[0;34m(self, input)\u001b[0m\n\u001b[1;32m     96\u001b[0m \u001b[38;5;28;01mdef\u001b[39;00m \u001b[38;5;21mforward\u001b[39m(\u001b[38;5;28mself\u001b[39m, \u001b[38;5;28minput\u001b[39m: SparseTensor) \u001b[38;5;241m-\u001b[39m\u001b[38;5;241m>\u001b[39m SparseTensor:\n\u001b[0;32m---> 98\u001b[0m     \u001b[38;5;28;01mreturn\u001b[39;00m \u001b[43mF\u001b[49m\u001b[38;5;241;43m.\u001b[39;49m\u001b[43mconv3d\u001b[49m\u001b[43m(\u001b[49m\n\u001b[1;32m     99\u001b[0m \u001b[43m        \u001b[49m\u001b[38;5;28;43minput\u001b[39;49m\u001b[43m,\u001b[49m\n\u001b[1;32m    100\u001b[0m \u001b[43m        \u001b[49m\u001b[43mweight\u001b[49m\u001b[38;5;241;43m=\u001b[39;49m\u001b[38;5;28;43mself\u001b[39;49m\u001b[38;5;241;43m.\u001b[39;49m\u001b[43mkernel\u001b[49m\u001b[43m,\u001b[49m\n\u001b[1;32m    101\u001b[0m \u001b[43m        \u001b[49m\u001b[43mkernel_size\u001b[49m\u001b[38;5;241;43m=\u001b[39;49m\u001b[38;5;28;43mself\u001b[39;49m\u001b[38;5;241;43m.\u001b[39;49m\u001b[43mkernel_size\u001b[49m\u001b[43m,\u001b[49m\n\u001b[1;32m    102\u001b[0m \u001b[43m        \u001b[49m\u001b[43mbias\u001b[49m\u001b[38;5;241;43m=\u001b[39;49m\u001b[38;5;28;43mself\u001b[39;49m\u001b[38;5;241;43m.\u001b[39;49m\u001b[43mbias\u001b[49m\u001b[43m,\u001b[49m\n\u001b[1;32m    103\u001b[0m \u001b[43m        \u001b[49m\u001b[43mstride\u001b[49m\u001b[38;5;241;43m=\u001b[39;49m\u001b[38;5;28;43mself\u001b[39;49m\u001b[38;5;241;43m.\u001b[39;49m\u001b[43mstride\u001b[49m\u001b[43m,\u001b[49m\n\u001b[1;32m    104\u001b[0m \u001b[43m        \u001b[49m\u001b[43mpadding\u001b[49m\u001b[38;5;241;43m=\u001b[39;49m\u001b[38;5;28;43mself\u001b[39;49m\u001b[38;5;241;43m.\u001b[39;49m\u001b[43mpadding\u001b[49m\u001b[43m,\u001b[49m\n\u001b[1;32m    105\u001b[0m \u001b[43m        \u001b[49m\u001b[43mdilation\u001b[49m\u001b[38;5;241;43m=\u001b[39;49m\u001b[38;5;28;43mself\u001b[39;49m\u001b[38;5;241;43m.\u001b[39;49m\u001b[43mdilation\u001b[49m\u001b[43m,\u001b[49m\n\u001b[1;32m    106\u001b[0m \u001b[43m        \u001b[49m\u001b[43mtransposed\u001b[49m\u001b[38;5;241;43m=\u001b[39;49m\u001b[38;5;28;43mself\u001b[39;49m\u001b[38;5;241;43m.\u001b[39;49m\u001b[43mtransposed\u001b[49m\u001b[43m,\u001b[49m\n\u001b[1;32m    107\u001b[0m \u001b[43m        \u001b[49m\u001b[43mgenerative\u001b[49m\u001b[38;5;241;43m=\u001b[39;49m\u001b[38;5;28;43mself\u001b[39;49m\u001b[38;5;241;43m.\u001b[39;49m\u001b[43mgenerative\u001b[49m\u001b[43m,\u001b[49m\n\u001b[1;32m    108\u001b[0m \u001b[43m        \u001b[49m\u001b[43mconfig\u001b[49m\u001b[38;5;241;43m=\u001b[39;49m\u001b[38;5;28;43mself\u001b[39;49m\u001b[38;5;241;43m.\u001b[39;49m\u001b[43m_config\u001b[49m\u001b[43m,\u001b[49m\n\u001b[1;32m    109\u001b[0m \u001b[43m        \u001b[49m\u001b[43mtraining\u001b[49m\u001b[38;5;241;43m=\u001b[39;49m\u001b[38;5;28;43mself\u001b[39;49m\u001b[38;5;241;43m.\u001b[39;49m\u001b[43mtraining\u001b[49m\u001b[43m,\u001b[49m\n\u001b[1;32m    110\u001b[0m \u001b[43m    \u001b[49m\u001b[43m)\u001b[49m\n",
      "File \u001b[0;32m~/anaconda3/envs/sparse/lib/python3.10/site-packages/torchsparse-2.1.0-py3.10-linux-x86_64.egg/torchsparse/nn/functional/conv/conv.py:92\u001b[0m, in \u001b[0;36mconv3d\u001b[0;34m(input, weight, kernel_size, bias, stride, padding, dilation, config, transposed, generative, training)\u001b[0m\n\u001b[1;32m     89\u001b[0m spatial_range \u001b[38;5;241m=\u001b[39m \u001b[38;5;28minput\u001b[39m\u001b[38;5;241m.\u001b[39mspatial_range\n\u001b[1;32m     91\u001b[0m \u001b[38;5;28;01mif\u001b[39;00m kmap \u001b[38;5;129;01mis\u001b[39;00m \u001b[38;5;28;01mNone\u001b[39;00m:\n\u001b[0;32m---> 92\u001b[0m     kmap \u001b[38;5;241m=\u001b[39m \u001b[43mF\u001b[49m\u001b[38;5;241;43m.\u001b[39;49m\u001b[43mbuild_kernel_map\u001b[49m\u001b[43m(\u001b[49m\n\u001b[1;32m     93\u001b[0m \u001b[43m        \u001b[49m\u001b[43mcoords\u001b[49m\u001b[43m,\u001b[49m\n\u001b[1;32m     94\u001b[0m \u001b[43m        \u001b[49m\u001b[43mfeats\u001b[49m\u001b[38;5;241;43m.\u001b[39;49m\u001b[43mshape\u001b[49m\u001b[43m[\u001b[49m\u001b[38;5;241;43m0\u001b[39;49m\u001b[43m]\u001b[49m\u001b[43m,\u001b[49m\n\u001b[1;32m     95\u001b[0m \u001b[43m        \u001b[49m\u001b[43mkernel_size\u001b[49m\u001b[43m,\u001b[49m\n\u001b[1;32m     96\u001b[0m \u001b[43m        \u001b[49m\u001b[43mstride\u001b[49m\u001b[43m,\u001b[49m\n\u001b[1;32m     97\u001b[0m \u001b[43m        \u001b[49m\u001b[43mpadding\u001b[49m\u001b[43m,\u001b[49m\n\u001b[1;32m     98\u001b[0m \u001b[43m        \u001b[49m\u001b[43mhashmap_keys\u001b[49m\u001b[43m,\u001b[49m\n\u001b[1;32m     99\u001b[0m \u001b[43m        \u001b[49m\u001b[43mhashmap_vals\u001b[49m\u001b[43m,\u001b[49m\n\u001b[1;32m    100\u001b[0m \u001b[43m        \u001b[49m\u001b[43mspatial_range\u001b[49m\u001b[43m,\u001b[49m\n\u001b[1;32m    101\u001b[0m \u001b[43m        \u001b[49m\u001b[43mkmap_mode\u001b[49m\u001b[43m,\u001b[49m\n\u001b[1;32m    102\u001b[0m \u001b[43m        \u001b[49m\u001b[43mdataflow\u001b[49m\u001b[43m,\u001b[49m\n\u001b[1;32m    103\u001b[0m \u001b[43m        \u001b[49m\u001b[43mdownsample_mode\u001b[49m\u001b[38;5;241;43m=\u001b[39;49m\u001b[43mconfig\u001b[49m\u001b[38;5;241;43m.\u001b[39;49m\u001b[43mdownsample_mode\u001b[49m\u001b[43m,\u001b[49m\n\u001b[1;32m    104\u001b[0m \u001b[43m        \u001b[49m\u001b[43mtraining\u001b[49m\u001b[38;5;241;43m=\u001b[39;49m\u001b[43mtraining\u001b[49m\u001b[43m,\u001b[49m\n\u001b[1;32m    105\u001b[0m \u001b[43m        \u001b[49m\u001b[43mifsort\u001b[49m\u001b[38;5;241;43m=\u001b[39;49m\u001b[43mconfig\u001b[49m\u001b[38;5;241;43m.\u001b[39;49m\u001b[43mifsort\u001b[49m\u001b[43m,\u001b[49m\n\u001b[1;32m    106\u001b[0m \u001b[43m        \u001b[49m\u001b[43msplit_mask_num\u001b[49m\u001b[38;5;241;43m=\u001b[39;49m\u001b[43mconfig\u001b[49m\u001b[38;5;241;43m.\u001b[39;49m\u001b[43msplit_mask_num\u001b[49m\u001b[43m,\u001b[49m\n\u001b[1;32m    107\u001b[0m \u001b[43m        \u001b[49m\u001b[43msplit_mask_num_bwd\u001b[49m\u001b[38;5;241;43m=\u001b[39;49m\u001b[43mconfig\u001b[49m\u001b[38;5;241;43m.\u001b[39;49m\u001b[43msplit_mask_num_bwd\u001b[49m\u001b[43m,\u001b[49m\n\u001b[1;32m    108\u001b[0m \u001b[43m    \u001b[49m\u001b[43m)\u001b[49m\n\u001b[1;32m    110\u001b[0m     hashmap \u001b[38;5;241m=\u001b[39m [kmap[\u001b[38;5;124m\"\u001b[39m\u001b[38;5;124mhashmap_keys\u001b[39m\u001b[38;5;124m\"\u001b[39m], kmap[\u001b[38;5;124m\"\u001b[39m\u001b[38;5;124mhashmap_vals\u001b[39m\u001b[38;5;124m\"\u001b[39m]]\n\u001b[1;32m    112\u001b[0m     \u001b[38;5;28minput\u001b[39m\u001b[38;5;241m.\u001b[39m_caches\u001b[38;5;241m.\u001b[39mkmaps[(\u001b[38;5;28minput\u001b[39m\u001b[38;5;241m.\u001b[39mstride, kernel_size, stride, dilation)] \u001b[38;5;241m=\u001b[39m kmap\n",
      "File \u001b[0;32m~/anaconda3/envs/sparse/lib/python3.10/site-packages/torchsparse-2.1.0-py3.10-linux-x86_64.egg/torchsparse/nn/functional/conv/kmap/build_kmap.py:85\u001b[0m, in \u001b[0;36mbuild_kernel_map\u001b[0;34m(_coords, input_node_num, kernel_size, stride, padding, hashmap_keys, hashmap_vals, spatial_range, mode, dataflow, downsample_mode, training, ifsort, generative, split_mask_num, split_mask_num_bwd)\u001b[0m\n\u001b[1;32m     81\u001b[0m     \u001b[38;5;28;01mraise\u001b[39;00m \u001b[38;5;167;01mValueError\u001b[39;00m(\n\u001b[1;32m     82\u001b[0m         \u001b[38;5;124mf\u001b[39m\u001b[38;5;124m\"\u001b[39m\u001b[38;5;124mUnsupported kmap_mode: \u001b[39m\u001b[38;5;132;01m{\u001b[39;00mmode\u001b[38;5;132;01m}\u001b[39;00m\u001b[38;5;124m for generative convolution (please switch to kmap_mode=hashmap).\u001b[39m\u001b[38;5;124m\"\u001b[39m\n\u001b[1;32m     83\u001b[0m     )\n\u001b[1;32m     84\u001b[0m \u001b[38;5;28;01mif\u001b[39;00m dataflow \u001b[38;5;241m==\u001b[39m Dataflow\u001b[38;5;241m.\u001b[39mImplicitGEMM:\n\u001b[0;32m---> 85\u001b[0m     kmap \u001b[38;5;241m=\u001b[39m \u001b[43mbuild_kmap_implicit_GEMM_hashmap_on_the_fly\u001b[49m\u001b[43m(\u001b[49m\n\u001b[1;32m     86\u001b[0m \u001b[43m        \u001b[49m\u001b[43mkmap\u001b[49m\u001b[43m,\u001b[49m\n\u001b[1;32m     87\u001b[0m \u001b[43m        \u001b[49m\u001b[43minput_node_num\u001b[49m\u001b[43m,\u001b[49m\n\u001b[1;32m     88\u001b[0m \u001b[43m        \u001b[49m\u001b[43m_coords\u001b[49m\u001b[43m,\u001b[49m\n\u001b[1;32m     89\u001b[0m \u001b[43m        \u001b[49m\u001b[43mkernel_size\u001b[49m\u001b[43m,\u001b[49m\n\u001b[1;32m     90\u001b[0m \u001b[43m        \u001b[49m\u001b[43mstride\u001b[49m\u001b[43m,\u001b[49m\n\u001b[1;32m     91\u001b[0m \u001b[43m        \u001b[49m\u001b[43mpadding\u001b[49m\u001b[38;5;241;43m=\u001b[39;49m\u001b[43mpadding\u001b[49m\u001b[43m,\u001b[49m\n\u001b[1;32m     92\u001b[0m \u001b[43m        \u001b[49m\u001b[43mspatial_range\u001b[49m\u001b[38;5;241;43m=\u001b[39;49m\u001b[43mnew_spatial_range\u001b[49m\u001b[43m,\u001b[49m\n\u001b[1;32m     93\u001b[0m \u001b[43m        \u001b[49m\u001b[43mcta_M\u001b[49m\u001b[38;5;241;43m=\u001b[39;49m\u001b[43mcta_M\u001b[49m\u001b[43m,\u001b[49m\n\u001b[1;32m     94\u001b[0m \u001b[43m        \u001b[49m\u001b[43msubm\u001b[49m\u001b[38;5;241;43m=\u001b[39;49m\u001b[43msubm\u001b[49m\u001b[43m,\u001b[49m\n\u001b[1;32m     95\u001b[0m \u001b[43m        \u001b[49m\u001b[43mifsort\u001b[49m\u001b[38;5;241;43m=\u001b[39;49m\u001b[43mifsort\u001b[49m\u001b[43m,\u001b[49m\n\u001b[1;32m     96\u001b[0m \u001b[43m        \u001b[49m\u001b[43msplit_mask_num\u001b[49m\u001b[38;5;241;43m=\u001b[39;49m\u001b[43msplit_mask_num\u001b[49m\u001b[43m,\u001b[49m\n\u001b[1;32m     97\u001b[0m \u001b[43m    \u001b[49m\u001b[43m)\u001b[49m\n\u001b[1;32m     99\u001b[0m \u001b[38;5;28;01melif\u001b[39;00m dataflow \u001b[38;5;241m==\u001b[39m Dataflow\u001b[38;5;241m.\u001b[39mGatherScatter:\n\u001b[1;32m    100\u001b[0m     kmap \u001b[38;5;241m=\u001b[39m build_kmap_Gather_Scatter_hashmap_on_the_fly(\n\u001b[1;32m    101\u001b[0m         kmap,\n\u001b[1;32m    102\u001b[0m         input_node_num,\n\u001b[0;32m   (...)\u001b[0m\n\u001b[1;32m    109\u001b[0m         subm\u001b[38;5;241m=\u001b[39msubm,\n\u001b[1;32m    110\u001b[0m     )\n",
      "File \u001b[0;32m~/anaconda3/envs/sparse/lib/python3.10/site-packages/torchsparse-2.1.0-py3.10-linux-x86_64.egg/torchsparse/nn/functional/conv/kmap/func/hashmap_on_the_fly.py:33\u001b[0m, in \u001b[0;36mbuild_kmap_implicit_GEMM_hashmap_on_the_fly\u001b[0;34m(kmap, input_node_num, _coords, kernel_size, stride, padding, spatial_range, cta_M, subm, ifsort, split_mask_num)\u001b[0m\n\u001b[1;32m     29\u001b[0m     coords_max \u001b[38;5;241m=\u001b[39m make_tensor(\n\u001b[1;32m     30\u001b[0m         coords_max_tuple, dtype\u001b[38;5;241m=\u001b[39mtorch\u001b[38;5;241m.\u001b[39mint, device\u001b[38;5;241m=\u001b[39mcoords\u001b[38;5;241m.\u001b[39mdevice\n\u001b[1;32m     31\u001b[0m     )\n\u001b[1;32m     32\u001b[0m \u001b[38;5;28;01melse\u001b[39;00m:\n\u001b[0;32m---> 33\u001b[0m     coords_max \u001b[38;5;241m=\u001b[39m \u001b[43mcoords\u001b[49m\u001b[38;5;241;43m.\u001b[39;49m\u001b[43mmax\u001b[49m\u001b[43m(\u001b[49m\u001b[38;5;241;43m0\u001b[39;49m\u001b[43m)\u001b[49m\u001b[38;5;241m.\u001b[39mvalues\n\u001b[1;32m     34\u001b[0m     \u001b[38;5;28;01mif\u001b[39;00m \u001b[38;5;129;01mnot\u001b[39;00m subm:\n\u001b[1;32m     35\u001b[0m         coords_max[\u001b[38;5;241m1\u001b[39m:] \u001b[38;5;241m=\u001b[39m (\n\u001b[1;32m     36\u001b[0m             coords_max[\u001b[38;5;241m1\u001b[39m:] \u001b[38;5;241m+\u001b[39m \u001b[38;5;241m2\u001b[39m \u001b[38;5;241m*\u001b[39m padding \u001b[38;5;241m-\u001b[39m (kernel_size \u001b[38;5;241m-\u001b[39m \u001b[38;5;241m1\u001b[39m)\n\u001b[1;32m     37\u001b[0m         ) \u001b[38;5;241m/\u001b[39m\u001b[38;5;241m/\u001b[39m stride\n",
      "\u001b[0;31mIndexError\u001b[0m: max(): Expected reduction dim 0 to have non-zero size."
     ]
    }
   ],
   "source": [
    "ddpm_sched = DDPMSparseSchedulerGPU(n_steps=1000, beta_min=0.0001, beta_max=0.02, sigma='coef_bt')\n",
    "evaluate_gen(path, model, ddpm_sched, save_path='./results/', cates=['airplane'], emb=0)"
   ]
  },
  {
   "cell_type": "code",
   "execution_count": null,
   "id": "c9837991-286a-4dbf-83bf-d712700cde8a",
   "metadata": {},
   "outputs": [],
   "source": [
    "ddpm_sched = DDPMSparseSchedulerGPU(n_steps=1000, beta_min=0.0001, beta_max=0.02, sigma='coef_bt')\n",
    "evaluate_gen(path, model, ddpm_sched, save_path='./results/', cates=['airplane'], emb=0)"
   ]
  },
  {
   "cell_type": "code",
   "execution_count": null,
   "id": "6ab7ff32-f1b5-4931-8fec-14f6015731b0",
   "metadata": {},
   "outputs": [],
   "source": [
    "ddpm_sched = DDPMSparseSchedulerGPU(n_steps=1000, beta_min=0.0001, beta_max=0.02, sigma='coef_bt')\n",
    "evaluate_gen(path, model, ddpm_sched, save_path='./results/', cates=['airplane'], emb=0)"
   ]
  },
  {
   "cell_type": "markdown",
   "id": "e86e8bf8-976b-4952-b51c-91764dbc4086",
   "metadata": {},
   "source": [
    "### Chair (emb=18)"
   ]
  },
  {
   "cell_type": "code",
   "execution_count": null,
   "id": "5e0a1791-b3f2-4c64-bda6-1b7d120b5dcc",
   "metadata": {},
   "outputs": [],
   "source": [
    "ddpm_sched = DDPMSparseSchedulerGPU(n_steps=1000, beta_min=0.0001, beta_max=0.02, sigma='coef_bt')\n",
    "evaluate_gen(path, model, ddpm_sched, save_path='./results/', cates=['chair'], emb=18)"
   ]
  },
  {
   "cell_type": "code",
   "execution_count": null,
   "id": "3ca71099-5ba4-4dc2-9240-a53d9f2d7c37",
   "metadata": {},
   "outputs": [],
   "source": [
    "ddpm_sched = DDPMSparseSchedulerGPU(n_steps=1000, beta_min=0.0001, beta_max=0.02, sigma='coef_bt')\n",
    "evaluate_gen(path, model, ddpm_sched, save_path='./results/', cates=['chair'], emb=18)"
   ]
  },
  {
   "cell_type": "code",
   "execution_count": null,
   "id": "8ef2e746-c09d-40d5-8750-56afca2efaa8",
   "metadata": {},
   "outputs": [],
   "source": [
    "ddpm_sched = DDPMSparseSchedulerGPU(n_steps=1000, beta_min=0.0001, beta_max=0.02, sigma='coef_bt')\n",
    "evaluate_gen(path, model, ddpm_sched, save_path='./results/', cates=['chair'], emb=18)"
   ]
  },
  {
   "cell_type": "markdown",
   "id": "f5db182e-a519-44a0-8174-444147ac2066",
   "metadata": {},
   "source": [
    "### Car (emb=16)"
   ]
  },
  {
   "cell_type": "code",
   "execution_count": null,
   "id": "9db683d4-1590-462e-a33a-14d1127ee2a8",
   "metadata": {},
   "outputs": [],
   "source": [
    "ddpm_sched = DDPMSparseSchedulerGPU(n_steps=1000, beta_min=0.0001, beta_max=0.02, sigma='coef_bt')\n",
    "evaluate_gen(path, model, ddpm_sched, save_path='./results/', cates=['car'], emb=16)"
   ]
  },
  {
   "cell_type": "code",
   "execution_count": null,
   "id": "d14f0cc4-147c-4aef-ae5f-ed0b87572c3d",
   "metadata": {},
   "outputs": [],
   "source": [
    "ddpm_sched = DDPMSparseSchedulerGPU(n_steps=1000, beta_min=0.0001, beta_max=0.02, sigma='coef_bt')\n",
    "evaluate_gen(path, model, ddpm_sched, save_path='./results/', cates=['car'], emb=16)"
   ]
  },
  {
   "cell_type": "code",
   "execution_count": null,
   "id": "b0a13497-b157-4096-8c79-7dba9f109cbd",
   "metadata": {},
   "outputs": [],
   "source": [
    "ddpm_sched = DDPMSparseSchedulerGPU(n_steps=1000, beta_min=0.0001, beta_max=0.02, sigma='coef_bt')\n",
    "evaluate_gen(path, model, ddpm_sched, save_path='./results/', cates=['car'], emb=16)"
   ]
  },
  {
   "cell_type": "code",
   "execution_count": null,
   "id": "2ca0cfa4-c37a-4c61-8b44-24551e142e5e",
   "metadata": {},
   "outputs": [],
   "source": []
  }
 ],
 "metadata": {
  "kernelspec": {
   "display_name": "Python 3 (ipykernel)",
   "language": "python",
   "name": "python3"
  },
  "language_info": {
   "codemirror_mode": {
    "name": "ipython",
    "version": 3
   },
   "file_extension": ".py",
   "mimetype": "text/x-python",
   "name": "python",
   "nbconvert_exporter": "python",
   "pygments_lexer": "ipython3",
   "version": "3.10.14"
  }
 },
 "nbformat": 4,
 "nbformat_minor": 5
}
