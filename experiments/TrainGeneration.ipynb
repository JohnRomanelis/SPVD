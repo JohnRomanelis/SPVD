{
 "cells": [
  {
   "cell_type": "code",
   "execution_count": 1,
   "id": "9b5c082b-b044-4211-9ba8-696f79ee1024",
   "metadata": {},
   "outputs": [
    {
     "name": "stdout",
     "output_type": "stream",
     "text": [
      "/home/vvrbeast/Desktop/Giannis/Code/SPVD\n"
     ]
    }
   ],
   "source": [
    "# Change Directory to be outside the experiments folder\n",
    "%cd .."
   ]
  },
  {
   "cell_type": "markdown",
   "id": "61fd14c5-c9b3-4b9d-bcca-fc63cd0e8217",
   "metadata": {},
   "source": [
    "# Load Data "
   ]
  },
  {
   "cell_type": "code",
   "execution_count": 2,
   "id": "16e33c69-70a3-4c5e-83f1-871aa48d379a",
   "metadata": {},
   "outputs": [
    {
     "name": "stdout",
     "output_type": "stream",
     "text": [
      "Jupyter environment detected. Enabling Open3D WebVisualizer.\n",
      "[Open3D INFO] WebRTC GUI backend enabled.\n",
      "[Open3D INFO] WebRTCWindowSystem: HTTP handshake server disabled.\n"
     ]
    }
   ],
   "source": [
    "from datasets.shapenet_pointflow_sparse import ShapeNet15kPointCloudsSparseNoisy\n",
    "from functools import partial\n",
    "from torch.utils.data import DataLoader\n",
    "import torchsparse\n",
    "from torchsparse.utils.collate import sparse_collate_fn\n",
    "from pclab.utils import DataLoaders\n",
    "import torch\n",
    "import torch.nn as nn"
   ]
  },
  {
   "cell_type": "code",
   "execution_count": 3,
   "id": "dacac80f-f81b-4b17-b49d-b85b0db74f4a",
   "metadata": {},
   "outputs": [
    {
     "name": "stdout",
     "output_type": "stream",
     "text": [
      "(1, 1, 1)\n",
      "Total number of data:4612\n",
      "Min number of points: (train)2048 (test)2048\n",
      "(1, 1, 1)\n",
      "Total number of data:662\n",
      "Min number of points: (train)2048 (test)2048\n"
     ]
    }
   ],
   "source": [
    "path = \"/home/vvrbeast/Desktop/Giannis/Data/ShapeNetCore.v2.PC15k\"\n",
    "\n",
    "tr_dataset = ShapeNet15kPointCloudsSparseNoisy(\n",
    "            categories= ['chair'], split='train',\n",
    "            tr_sample_size=2048,\n",
    "            te_sample_size=2048,\n",
    "            scale=1.,\n",
    "            root_dir=path,\n",
    "            normalize_per_shape=False,\n",
    "            normalize_std_per_axis=False, \n",
    "            random_subsample=True)\n",
    "\n",
    "te_dataset = ShapeNet15kPointCloudsSparseNoisy(\n",
    "            categories= ['chair'], split='val',\n",
    "            tr_sample_size=2048,\n",
    "            te_sample_size=2048,\n",
    "            scale=1.,\n",
    "            root_dir=path,\n",
    "            normalize_per_shape=False,\n",
    "            normalize_std_per_axis=False,\n",
    "            random_subsample=True)\n",
    "\n",
    "tr_dataset.set_voxel_size(1e-5)\n",
    "tr_dataset.set_noise_params(beta_max=0.02)\n",
    "\n",
    "te_dataset.set_voxel_size(1e-5)\n",
    "te_dataset.set_noise_params(beta_max=0.02)\n",
    "\n",
    "train_dl, valid_dl = map(partial(DataLoader, batch_size=32, shuffle=True, num_workers=8, drop_last=True, collate_fn=sparse_collate_fn), (tr_dataset, te_dataset))\n",
    "dls = DataLoaders(train_dl, valid_dl)"
   ]
  },
  {
   "cell_type": "code",
   "execution_count": 4,
   "id": "3a458dc7-b8c7-47f9-9a3f-9a4efd470613",
   "metadata": {},
   "outputs": [],
   "source": [
    "from pclab.learner import *\n",
    "from pclab.utils import def_device\n",
    "import fastcore.all as fc\n",
    "from typing import Mapping\n",
    "from copy import copy\n",
    "from torcheval.metrics import Mean\n",
    "from utils.callbacks import GradientClipCB\n",
    "from utils.callbacks import CheckpointCB\n",
    "from models.sparse_utils import PointTensor\n",
    "\n",
    "class DDPMCB(Callback):\n",
    "    \n",
    "    def before_batch(self, learn): \n",
    "        pts = learn.batch['input']\n",
    "        t = torch.tensor(learn.batch['t'])\n",
    "        noise = learn.batch['noise']\n",
    "        inp = (pts, t)\n",
    "        learn.batch = (inp, noise.F)\n",
    "\n",
    "def to_device(x, device=def_device):\n",
    "    if isinstance(x, (torch.Tensor, torchsparse.SparseTensor)): return x.to(device)\n",
    "    if isinstance(x, Mapping): return {k:v.to(device) for k,v in x.items()}\n",
    "    return type(x)(to_device(o, device) for o in x)\n",
    "\n",
    "class DeviceCBSparse(Callback):\n",
    "    order = DDPMCB.order + 1\n",
    "    def __init__(self, device=def_device): fc.store_attr()\n",
    "    def before_fit(self, learn):\n",
    "        if hasattr(learn.model, 'to'): learn.model.to(self.device)\n",
    "    def before_batch(self, learn): learn.batch = to_device(learn.batch, device=self.device)\n",
    "\n",
    "\n",
    "class LossCB(Callback):\n",
    "    def __init__(self, *ms, **metrics):\n",
    "        for o in ms: metrics[type(o).__name__] = o\n",
    "        self.metrics = metrics\n",
    "        self.all_metrics = copy(metrics)\n",
    "        self.all_metrics['loss'] = self.loss = Mean()\n",
    "\n",
    "    def _log(self, d): print(d)\n",
    "    def before_fit(self, learn): learn.metrics = self\n",
    "    def before_epoch(self, learn): [o.reset() for o in self.all_metrics.values()]\n",
    "\n",
    "    def after_epoch(self, learn):\n",
    "        log = {k:f'{v.compute():.3f}' for k,v in self.all_metrics.items()}\n",
    "        log['epoch'] = learn.epoch\n",
    "        log['train'] = 'train' if learn.model.training else 'eval'\n",
    "        self._log(log)\n",
    "\n",
    "    def after_batch(self, learn):\n",
    "        x,y,*_ = learn.batch\n",
    "        #for m in self.metrics.values(): m.update(to_cpu(learn.preds), y)\n",
    "        self.loss.update(to_cpu(learn.loss), weight=2)"
   ]
  },
  {
   "cell_type": "markdown",
   "id": "1c252c1d-a35e-4e53-8102-4e6c3016a933",
   "metadata": {},
   "source": [
    "# Load the model"
   ]
  },
  {
   "cell_type": "code",
   "execution_count": 5,
   "id": "a4b008db-8a1f-47bc-aa55-d1a2b55b01e4",
   "metadata": {},
   "outputs": [],
   "source": [
    "from models.ddpm_unet_attn import SPVUnet\n",
    "get_model = partial(SPVUnet, voxel_size=0.1, nfs = (64, 128, 128, 256), pres=1e-5, attn_chans=16, attn_start=3)"
   ]
  },
  {
   "cell_type": "markdown",
   "id": "7f9a70d4-67a7-4da7-9cb1-e2144cab5271",
   "metadata": {},
   "source": [
    "## LRFIND"
   ]
  },
  {
   "cell_type": "code",
   "execution_count": 6,
   "id": "c2fd749b-cba2-46d6-b54b-f35eceadd36f",
   "metadata": {},
   "outputs": [
    {
     "data": {
      "image/png": "[encoded data removed]",
      "text/plain": [
       "<Figure size 640x480 with 1 Axes>"
      ]
     },
     "metadata": {},
     "output_type": "display_data"
    }
   ],
   "source": [
    "ddpm_cb = DDPMCB()\n",
    "model = get_model()\n",
    "learn = TrainLearner(model, dls, nn.MSELoss(), cbs=[ddpm_cb, DeviceCBSparse(), GradientClipCB()], opt_func=torch.optim.Adam)\n",
    "learn.lr_find(max_mult=3)"
   ]
  },
  {
   "cell_type": "code",
   "execution_count": null,
   "id": "120b51b6-0cb7-43d0-8d00-349bcd87bf25",
   "metadata": {},
   "outputs": [
    {
     "data": {
      "text/html": [
       "\n",
       "<style>\n",
       "    /* Turns off some styling */\n",
       "    progress {\n",
       "        /* gets rid of default border in Firefox and Opera. */\n",
       "        border: none;\n",
       "        /* Needs to be in here for Safari polyfill so background images work as expected. */\n",
       "        background-size: auto;\n",
       "    }\n",
       "    progress:not([value]), progress:not([value])::-webkit-progress-bar {\n",
       "        background: repeating-linear-gradient(45deg, #7e7e7e, #7e7e7e 10px, #5c5c5c 10px, #5c5c5c 20px);\n",
       "    }\n",
       "    .progress-bar-interrupted, .progress-bar-interrupted::-webkit-progress-bar {\n",
       "        background: #F44336;\n",
       "    }\n",
       "</style>\n"
      ],
      "text/plain": [
       "<IPython.core.display.HTML object>"
      ]
     },
     "metadata": {},
     "output_type": "display_data"
    },
    {
     "data": {
      "text/html": [
       "\n",
       "    <div>\n",
       "      <progress value='2' class='' max='5000' style='width:300px; height:20px; vertical-align: middle;'></progress>\n",
       "      0.04% [2/5000 00:30&lt;21:29:41]\n",
       "    </div>\n",
       "    \n",
       "<table border=\"1\" class=\"dataframe\">\n",
       "  <thead>\n",
       "    <tr style=\"text-align: left;\">\n",
       "      <th>loss</th>\n",
       "      <th>epoch</th>\n",
       "      <th>train</th>\n",
       "    </tr>\n",
       "  </thead>\n",
       "  <tbody>\n",
       "    <tr>\n",
       "      <td>0.357</td>\n",
       "      <td>0</td>\n",
       "      <td>train</td>\n",
       "    </tr>\n",
       "    <tr>\n",
       "      <td>0.260</td>\n",
       "      <td>0</td>\n",
       "      <td>eval</td>\n",
       "    </tr>\n",
       "    <tr>\n",
       "      <td>0.251</td>\n",
       "      <td>1</td>\n",
       "      <td>train</td>\n",
       "    </tr>\n",
       "    <tr>\n",
       "      <td>0.223</td>\n",
       "      <td>1</td>\n",
       "      <td>eval</td>\n",
       "    </tr>\n",
       "  </tbody>\n",
       "</table><p>\n",
       "\n",
       "    <div>\n",
       "      <progress value='34' class='' max='144' style='width:300px; height:20px; vertical-align: middle;'></progress>\n",
       "      23.61% [34/144 00:03&lt;00:12 0.224]\n",
       "    </div>\n",
       "    "
      ],
      "text/plain": [
       "<IPython.core.display.HTML object>"
      ]
     },
     "metadata": {},
     "output_type": "display_data"
    }
   ],
   "source": [
    "lr = 0.0002 \n",
    "epochs = 5000 \n",
    "\n",
    "model = get_model()\n",
    "\n",
    "# scheduler\n",
    "total_steps = epochs * len(dls.train)\n",
    "#sched = partial(torch.optim.lr_scheduler.OneCycleLR, max_lr=lr, total_steps = total_steps)\n",
    "\n",
    "# Callbacks\n",
    "ddpm_cb = DDPMCB()\n",
    "checkpoint_cb = CheckpointCB(100, 'ddpm_unet_attn_64_128_256_256', run_params={})\n",
    "cbs = [ddpm_cb, DeviceCBSparse(), ProgressCB(plot=False), LossCB(), GradientClipCB(), checkpoint_cb] #BatchSchedCB(sched),\n",
    "\n",
    "learn = TrainLearner(model, dls, nn.MSELoss(), lr=lr, cbs=cbs, opt_func=torch.optim.Adam)\n",
    "learn.fit(epochs)"
   ]
  },
  {
   "cell_type": "markdown",
   "id": "4c163fb7-9382-42a3-bbae-db332ce320fb",
   "metadata": {},
   "source": [
    "## Inference"
   ]
  },
  {
   "cell_type": "code",
   "execution_count": null,
   "id": "7d6c4218-ba1a-466f-b182-7ce16c50cfd0",
   "metadata": {},
   "outputs": [],
   "source": [
    "from utils.schedulers import DDPMSparseSchedulerGPU\n",
    "from utils.visualization import quick_vis_batch\n",
    "vis_batch = partial(quick_vis_batch, x_offset = 8, y_offset=8)"
   ]
  },
  {
   "cell_type": "code",
   "execution_count": null,
   "id": "dd37291b-4ea0-4f9b-8c6e-70bb780df1c5",
   "metadata": {},
   "outputs": [],
   "source": [
    "ddpm_sched = DDPMSparseSchedulerGPU(n_steps=1000, beta_min=0.0001, beta_max=0.02, pres=1e-5)\n",
    "preds = ddpm_sched.sample(model, 32, 2048)\n",
    "vis_batch(preds)"
   ]
  },
  {
   "cell_type": "code",
   "execution_count": null,
   "id": "f89441b5-a8f4-44cb-874d-5736b40260af",
   "metadata": {},
   "outputs": [],
   "source": []
  }
 ],
 "metadata": {
  "kernelspec": {
   "display_name": "Python 3 (ipykernel)",
   "language": "python",
   "name": "python3"
  },
  "language_info": {
   "codemirror_mode": {
    "name": "ipython",
    "version": 3
   },
   "file_extension": ".py",
   "mimetype": "text/x-python",
   "name": "python",
   "nbconvert_exporter": "python",
   "pygments_lexer": "ipython3",
   "version": "3.10.14"
  }
 },
 "nbformat": 4,
 "nbformat_minor": 5
}
